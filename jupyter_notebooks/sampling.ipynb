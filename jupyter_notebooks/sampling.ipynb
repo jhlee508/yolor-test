{
 "cells": [
  {
   "cell_type": "code",
   "execution_count": 1,
   "id": "2dbb1e78",
   "metadata": {},
   "outputs": [
    {
     "name": "stdout",
     "output_type": "stream",
     "text": [
      "C:\\Users\\user\\Desktop\\jh\\yolor\n"
     ]
    }
   ],
   "source": [
    "%cd yolor"
   ]
  },
  {
   "cell_type": "code",
   "execution_count": 14,
   "id": "5ab88d0a",
   "metadata": {},
   "outputs": [],
   "source": [
    "from glob import glob\n",
    "\n",
    "all_train_label_list = glob(\"../dataset/train-001/labels/*.txt\")\n",
    "\n",
    "train002_label_list = glob(\"../dataset/train-suv/labels/*.txt\")"
   ]
  },
  {
   "cell_type": "code",
   "execution_count": 15,
   "id": "c5c08ba5",
   "metadata": {},
   "outputs": [
    {
     "data": {
      "text/plain": [
       "(24650, 0)"
      ]
     },
     "execution_count": 15,
     "metadata": {},
     "output_type": "execute_result"
    }
   ],
   "source": [
    "len(all_train_label_list), len(train002_label_list)"
   ]
  },
  {
   "cell_type": "markdown",
   "id": "74492e64",
   "metadata": {},
   "source": [
    "# Extract Target Class"
   ]
  },
  {
   "cell_type": "code",
   "execution_count": 16,
   "id": "f8b2464e",
   "metadata": {},
   "outputs": [
    {
     "name": "stderr",
     "output_type": "stream",
     "text": [
      "100%|███████████████████████████████████████████████████████████████████████████| 24650/24650 [00:26<00:00, 943.67it/s]"
     ]
    },
    {
     "name": "stdout",
     "output_type": "stream",
     "text": [
      "Class Num: 76205\n"
     ]
    },
    {
     "name": "stderr",
     "output_type": "stream",
     "text": [
      "\n"
     ]
    }
   ],
   "source": [
    "from tqdm import tqdm\n",
    "\n",
    "num_class = 0\n",
    "class_list = []\n",
    "target_classes = [12, 10, 8, 3, 4, 6, 9, 11, 5, 2, 13, 7, 1]\n",
    "\n",
    "for train_labels in tqdm(all_train_label_list): # 1 txt file\n",
    "    with open(train_labels, 'r', encoding='utf-8') as f:\n",
    "        label = f.readlines() # 1 txt file labels\n",
    "        for lab in label: # 1 line, in 1 txt file\n",
    "            lab = lab.split(' ')\n",
    "            cls, x, y, w, h = int(lab[0]), float(lab[1]), float(lab[2]), float(lab[3]), float(lab[4])\n",
    "    \n",
    "            if cls in target_classes:\n",
    "                num_class += 1\n",
    "                \n",
    "                target_cls = {}\n",
    "                target_cls['cls'] = cls\n",
    "                target_cls['x'], target_cls['y'], target_cls['w'], target_cls['h'] = x, y, w, h\n",
    "                #class['bbox'] = yolobbox2bbox(x, y, w, h, 1920, 1080)\n",
    "                target_cls['id'] = num_class\n",
    "                target_cls['txt_path'] = train_labels\n",
    "                #print(\"class:\", cls, x, y, w, h, \"\\tbbox:\", yolobbox2bbox(x, y, w, h, 1920, 1080))\n",
    "                \n",
    "                class_list.append(target_cls)\n",
    "    \n",
    "print(\"Class Num:\", num_class)"
   ]
  },
  {
   "cell_type": "markdown",
   "id": "079fa3a4",
   "metadata": {},
   "source": [
    "# Folder Move"
   ]
  },
  {
   "cell_type": "code",
   "execution_count": 17,
   "id": "843792ab",
   "metadata": {},
   "outputs": [
    {
     "name": "stderr",
     "output_type": "stream",
     "text": [
      "100%|███████████████████████████████████████████████████████████████████████████| 76205/76205 [03:24<00:00, 371.94it/s]"
     ]
    },
    {
     "name": "stdout",
     "output_type": "stream",
     "text": [
      "File Move Finished!\n"
     ]
    },
    {
     "name": "stderr",
     "output_type": "stream",
     "text": [
      "\n"
     ]
    }
   ],
   "source": [
    "import os\n",
    "import shutil\n",
    "from tqdm import tqdm\n",
    "\n",
    "img_dest = \"../dataset/train-suv/images/\"\n",
    "txt_dest = \"../dataset/train-suv/labels/\"\n",
    "\n",
    "\n",
    "\n",
    "def createDirectory(directory):\n",
    "    try:\n",
    "        if not os.path.exists(directory):\n",
    "            os.makedirs(directory)\n",
    "    except OSError:\n",
    "        print(\"Error: Failed to create the directory.\")\n",
    "        \n",
    "createDirectory(img_dest)\n",
    "createDirectory(txt_dest)\n",
    "\n",
    "for path in tqdm(class_list):\n",
    "    img_path = \"../dataset/train-001/images/\" + path['txt_path'][28:-4] + \".png\"\n",
    "    txt_path = path['txt_path']\n",
    "\n",
    "    # copy images\n",
    "    shutil.copyfile(img_path, img_dest + img_path[28:])\n",
    "    # move txt files\n",
    "    shutil.copyfile(txt_path, txt_dest + txt_path[28:])\n",
    "\n",
    "print(\"File Move Finished!\")"
   ]
  },
  {
   "cell_type": "markdown",
   "id": "2a0ec437",
   "metadata": {},
   "source": [
    "# Class Balance (class = 12, 유모차)"
   ]
  },
  {
   "cell_type": "code",
   "execution_count": 50,
   "id": "cf70bb43",
   "metadata": {},
   "outputs": [
    {
     "name": "stderr",
     "output_type": "stream",
     "text": [
      "100%|███████████████████████████████████████████████████████████████████████████████| 55/55 [00:00<00:00, 27864.08it/s]"
     ]
    },
    {
     "name": "stdout",
     "output_type": "stream",
     "text": [
      "[151, 65, 49, 0, 0, 0, 0, 117, 6, 0, 0, 0, 64, 6]\n"
     ]
    },
    {
     "name": "stderr",
     "output_type": "stream",
     "text": [
      "\n"
     ]
    }
   ],
   "source": [
    "# 클래스 균형 확인 코드\n",
    "from tqdm import tqdm\n",
    "\n",
    "cate = [0,0,0,0,0,0,0,0,0,0,0,0,0,0]\n",
    "train002_label_list = glob(\"../dataset/train-002/labels/*.txt\")\n",
    "\n",
    "for train_labels in tqdm(train002_label_list): # 1 txt file\n",
    "    with open(train_labels, 'r', encoding='utf-8') as f:\n",
    "        label = f.readlines() # 1 txt file labels\n",
    "        for lab in label: # 1 line, in 1 txt file\n",
    "            lab = lab.split(' ')\n",
    "            cls = int(lab[0])\n",
    "            \n",
    "            if cls == 0:\n",
    "                cate[0] += 1\n",
    "            elif cls == 1:\n",
    "                cate[1] += 1\n",
    "            elif cls == 2:\n",
    "                cate[2] += 1\n",
    "            elif cls == 3:\n",
    "                cate[3] += 1\n",
    "            elif cls == 4:\n",
    "                cate[4] += 1\n",
    "            elif cls == 5:\n",
    "                cate[5] += 1\n",
    "            elif cls == 6:\n",
    "                cate[6] += 1\n",
    "            elif cls == 7:\n",
    "                cate[7] += 1\n",
    "            elif cls == 8:\n",
    "                cate[8] += 1\n",
    "            elif cls == 9:\n",
    "                cate[9] += 1\n",
    "            elif cls == 10:\n",
    "                cate[10] += 1\n",
    "            elif cls == 11:\n",
    "                cate[11] += 1\n",
    "            elif cls == 12:\n",
    "                cate[12] += 1\n",
    "            elif cls == 13:\n",
    "                cate[13] += 1 \n",
    "                \n",
    "result_cate = cate\n",
    "print(c)"
   ]
  },
  {
   "cell_type": "code",
   "execution_count": 51,
   "id": "6a09c12e",
   "metadata": {},
   "outputs": [
    {
     "name": "stderr",
     "output_type": "stream",
     "text": [
      "C:\\Users\\user\\anaconda3\\envs\\yolor\\lib\\site-packages\\seaborn\\_decorators.py:36: FutureWarning: Pass the following variables as keyword args: x, y. From version 0.12, the only valid positional argument will be `data`, and passing other arguments without an explicit keyword will result in an error or misinterpretation.\n",
      "  warnings.warn(\n"
     ]
    },
    {
     "data": {
      "image/png": "[encoded data removed]",
      "text/plain": [
       "<Figure size 432x288 with 1 Axes>"
      ]
     },
     "metadata": {
      "needs_background": "light"
     },
     "output_type": "display_data"
    }
   ],
   "source": [
    "import numpy as np\n",
    "import matplotlib.pyplot as plt\n",
    "import seaborn as sns\n",
    "\n",
    "\n",
    "X = np.array([0,1,2,3,4,5,6,7,8,9,10,11,12,13])\n",
    "Y = np.array(result_cate)\n",
    "\n",
    "ax = sns.barplot(X,Y, order=X)\n",
    "for p, q in zip(ax.patches, Y):\n",
    "    ax.text(p.get_x()+p.get_width()/2.,\n",
    "        p.get_height()*(1.01),\n",
    "        \"{}\".format(q),\n",
    "        ha = 'center'  )\n",
    "    \n",
    "plt.show()"
   ]
  },
  {
   "cell_type": "markdown",
   "id": "cc3eb1d7",
   "metadata": {},
   "source": [
    "# Class Balance (class = 10, 전동킥보드)"
   ]
  },
  {
   "cell_type": "code",
   "execution_count": 68,
   "id": "2dc966ae",
   "metadata": {},
   "outputs": [
    {
     "name": "stderr",
     "output_type": "stream",
     "text": [
      "100%|███████████████████████████████████████████████████████████████████████████████| 184/184 [00:00<00:00, 893.57it/s]"
     ]
    },
    {
     "name": "stdout",
     "output_type": "stream",
     "text": [
      "[400, 233, 75, 33, 0, 23, 0, 263, 6, 170, 356, 0, 64, 6]\n"
     ]
    },
    {
     "name": "stderr",
     "output_type": "stream",
     "text": [
      "\n",
      "C:\\Users\\user\\anaconda3\\envs\\yolor\\lib\\site-packages\\seaborn\\_decorators.py:36: FutureWarning: Pass the following variables as keyword args: x, y. From version 0.12, the only valid positional argument will be `data`, and passing other arguments without an explicit keyword will result in an error or misinterpretation.\n",
      "  warnings.warn(\n"
     ]
    },
    {
     "data": {
      "image/png": "[encoded data removed]",
      "text/plain": [
       "<Figure size 432x288 with 1 Axes>"
      ]
     },
     "metadata": {
      "needs_background": "light"
     },
     "output_type": "display_data"
    }
   ],
   "source": [
    "# 클래스 균형 확인 코드\n",
    "from tqdm import tqdm\n",
    "import numpy as np\n",
    "import matplotlib.pyplot as plt\n",
    "import seaborn as sns\n",
    "\n",
    "cate = [0,0,0,0,0,0,0,0,0,0,0,0,0,0]\n",
    "train002_label_list = glob(\"../dataset/train-002/labels/*.txt\")\n",
    "\n",
    "for train_labels in tqdm(train002_label_list): # 1 txt file\n",
    "    with open(train_labels, 'r', encoding='utf-8') as f:\n",
    "        label = f.readlines() # 1 txt file labels\n",
    "        for lab in label: # 1 line, in 1 txt file\n",
    "            lab = lab.split(' ')\n",
    "            cls = int(lab[0])\n",
    "            \n",
    "            if cls == 0:\n",
    "                cate[0] += 1\n",
    "            elif cls == 1:\n",
    "                cate[1] += 1\n",
    "            elif cls == 2:\n",
    "                cate[2] += 1\n",
    "            elif cls == 3:\n",
    "                cate[3] += 1\n",
    "            elif cls == 4:\n",
    "                cate[4] += 1\n",
    "            elif cls == 5:\n",
    "                cate[5] += 1\n",
    "            elif cls == 6:\n",
    "                cate[6] += 1\n",
    "            elif cls == 7:\n",
    "                cate[7] += 1\n",
    "            elif cls == 8:\n",
    "                cate[8] += 1\n",
    "            elif cls == 9:\n",
    "                cate[9] += 1\n",
    "            elif cls == 10:\n",
    "                cate[10] += 1\n",
    "            elif cls == 11:\n",
    "                cate[11] += 1\n",
    "            elif cls == 12:\n",
    "                cate[12] += 1\n",
    "            elif cls == 13:\n",
    "                cate[13] += 1 \n",
    "                \n",
    "result_cate = cate\n",
    "print(result_cate)\n",
    "\n",
    "X = np.array([0,1,2,3,4,5,6,7,8,9,10,11,12,13])\n",
    "Y = np.array(result_cate)\n",
    "\n",
    "ax = sns.barplot(X,Y, order=X)\n",
    "for p, q in zip(ax.patches, Y):\n",
    "    ax.text(p.get_x()+p.get_width()/2.,\n",
    "        p.get_height()*(1.01),\n",
    "        \"{}\".format(q),\n",
    "        ha = 'center'  )\n",
    "    \n",
    "plt.show()"
   ]
  },
  {
   "cell_type": "markdown",
   "id": "42afb9af",
   "metadata": {},
   "source": [
    "# Class Balance (class = 8, 어린이)"
   ]
  },
  {
   "cell_type": "code",
   "execution_count": 72,
   "id": "b7afec43",
   "metadata": {},
   "outputs": [
    {
     "name": "stderr",
     "output_type": "stream",
     "text": [
      "100%|███████████████████████████████████████████████████████████████████████████████| 632/632 [00:00<00:00, 956.68it/s]\n",
      "C:\\Users\\user\\anaconda3\\envs\\yolor\\lib\\site-packages\\seaborn\\_decorators.py:36: FutureWarning: Pass the following variables as keyword args: x, y. From version 0.12, the only valid positional argument will be `data`, and passing other arguments without an explicit keyword will result in an error or misinterpretation.\n",
      "  warnings.warn(\n"
     ]
    },
    {
     "name": "stdout",
     "output_type": "stream",
     "text": [
      "[1594, 865, 161, 36, 2, 75, 7, 1051, 496, 185, 356, 0, 64, 196]\n"
     ]
    },
    {
     "data": {
      "image/png": "[encoded data removed]",
      "text/plain": [
       "<Figure size 432x288 with 1 Axes>"
      ]
     },
     "metadata": {
      "needs_background": "light"
     },
     "output_type": "display_data"
    }
   ],
   "source": [
    "# 클래스 균형 확인 코드\n",
    "from tqdm import tqdm\n",
    "import numpy as np\n",
    "import matplotlib.pyplot as plt\n",
    "import seaborn as sns\n",
    "\n",
    "cate = [0,0,0,0,0,0,0,0,0,0,0,0,0,0]\n",
    "train002_label_list = glob(\"../dataset/train-002/labels/*.txt\")\n",
    "\n",
    "for train_labels in tqdm(train002_label_list): # 1 txt file\n",
    "    with open(train_labels, 'r', encoding='utf-8') as f:\n",
    "        label = f.readlines() # 1 txt file labels\n",
    "        for lab in label: # 1 line, in 1 txt file\n",
    "            lab = lab.split(' ')\n",
    "            cls = int(lab[0])\n",
    "            \n",
    "            if cls == 0:\n",
    "                cate[0] += 1\n",
    "            elif cls == 1:\n",
    "                cate[1] += 1\n",
    "            elif cls == 2:\n",
    "                cate[2] += 1\n",
    "            elif cls == 3:\n",
    "                cate[3] += 1\n",
    "            elif cls == 4:\n",
    "                cate[4] += 1\n",
    "            elif cls == 5:\n",
    "                cate[5] += 1\n",
    "            elif cls == 6:\n",
    "                cate[6] += 1\n",
    "            elif cls == 7:\n",
    "                cate[7] += 1\n",
    "            elif cls == 8:\n",
    "                cate[8] += 1\n",
    "            elif cls == 9:\n",
    "                cate[9] += 1\n",
    "            elif cls == 10:\n",
    "                cate[10] += 1\n",
    "            elif cls == 11:\n",
    "                cate[11] += 1\n",
    "            elif cls == 12:\n",
    "                cate[12] += 1\n",
    "            elif cls == 13:\n",
    "                cate[13] += 1 \n",
    "                \n",
    "result_cate = cate\n",
    "print(result_cate)\n",
    "\n",
    "X = np.array([0,1,2,3,4,5,6,7,8,9,10,11,12,13])\n",
    "Y = np.array(result_cate)\n",
    "\n",
    "ax = sns.barplot(X,Y, order=X)\n",
    "for p, q in zip(ax.patches, Y):\n",
    "    ax.text(p.get_x()+p.get_width()/2.,\n",
    "        p.get_height()*(1.01),\n",
    "        \"{}\".format(q),\n",
    "        ha = 'center'  )\n",
    "    \n",
    "plt.show()"
   ]
  },
  {
   "cell_type": "markdown",
   "id": "9fbdd9b7",
   "metadata": {},
   "source": [
    "# Class Balance (class = 3, 버스)"
   ]
  },
  {
   "cell_type": "code",
   "execution_count": 75,
   "id": "73383a8f",
   "metadata": {},
   "outputs": [
    {
     "name": "stderr",
     "output_type": "stream",
     "text": [
      "100%|████████████████████████████████████████████████████████████████████████████| 1020/1020 [00:00<00:00, 1658.25it/s]"
     ]
    },
    {
     "name": "stdout",
     "output_type": "stream",
     "text": [
      "[2831, 1543, 211, 902, 8, 100, 15, 1456, 496, 228, 356, 11, 64, 197]\n"
     ]
    },
    {
     "name": "stderr",
     "output_type": "stream",
     "text": [
      "\n",
      "C:\\Users\\user\\anaconda3\\envs\\yolor\\lib\\site-packages\\seaborn\\_decorators.py:36: FutureWarning: Pass the following variables as keyword args: x, y. From version 0.12, the only valid positional argument will be `data`, and passing other arguments without an explicit keyword will result in an error or misinterpretation.\n",
      "  warnings.warn(\n"
     ]
    },
    {
     "data": {
      "image/png": "[encoded data removed]",
      "text/plain": [
       "<Figure size 432x288 with 1 Axes>"
      ]
     },
     "metadata": {
      "needs_background": "light"
     },
     "output_type": "display_data"
    }
   ],
   "source": [
    "# 클래스 균형 확인 코드\n",
    "from tqdm import tqdm\n",
    "import numpy as np\n",
    "import matplotlib.pyplot as plt\n",
    "import seaborn as sns\n",
    "\n",
    "cate = [0,0,0,0,0,0,0,0,0,0,0,0,0,0]\n",
    "train002_label_list = glob(\"../dataset/train-002/labels/*.txt\")\n",
    "\n",
    "for train_labels in tqdm(train002_label_list): # 1 txt file\n",
    "    with open(train_labels, 'r', encoding='utf-8') as f:\n",
    "        label = f.readlines() # 1 txt file labels\n",
    "        for lab in label: # 1 line, in 1 txt file\n",
    "            lab = lab.split(' ')\n",
    "            cls = int(lab[0])\n",
    "            \n",
    "            if cls == 0:\n",
    "                cate[0] += 1\n",
    "            elif cls == 1:\n",
    "                cate[1] += 1\n",
    "            elif cls == 2:\n",
    "                cate[2] += 1\n",
    "            elif cls == 3:\n",
    "                cate[3] += 1\n",
    "            elif cls == 4:\n",
    "                cate[4] += 1\n",
    "            elif cls == 5:\n",
    "                cate[5] += 1\n",
    "            elif cls == 6:\n",
    "                cate[6] += 1\n",
    "            elif cls == 7:\n",
    "                cate[7] += 1\n",
    "            elif cls == 8:\n",
    "                cate[8] += 1\n",
    "            elif cls == 9:\n",
    "                cate[9] += 1\n",
    "            elif cls == 10:\n",
    "                cate[10] += 1\n",
    "            elif cls == 11:\n",
    "                cate[11] += 1\n",
    "            elif cls == 12:\n",
    "                cate[12] += 1\n",
    "            elif cls == 13:\n",
    "                cate[13] += 1 \n",
    "                \n",
    "result_cate = cate\n",
    "print(result_cate)\n",
    "\n",
    "X = np.array([0,1,2,3,4,5,6,7,8,9,10,11,12,13])\n",
    "Y = np.array(result_cate)\n",
    "\n",
    "ax = sns.barplot(X,Y, order=X)\n",
    "for p, q in zip(ax.patches, Y):\n",
    "    ax.text(p.get_x()+p.get_width()/2.,\n",
    "        p.get_height()*(1.01),\n",
    "        \"{}\".format(q),\n",
    "        ha = 'center'  )\n",
    "    \n",
    "plt.show()"
   ]
  },
  {
   "cell_type": "markdown",
   "id": "5782f872",
   "metadata": {},
   "source": [
    "# Class Balance (class = 4, 학원차량(통학버스))"
   ]
  },
  {
   "cell_type": "code",
   "execution_count": 78,
   "id": "e8341617",
   "metadata": {
    "scrolled": false
   },
   "outputs": [
    {
     "name": "stderr",
     "output_type": "stream",
     "text": [
      "100%|████████████████████████████████████████████████████████████████████████████| 2117/2117 [00:01<00:00, 1300.42it/s]"
     ]
    },
    {
     "name": "stdout",
     "output_type": "stream",
     "text": [
      "[5705, 2633, 367, 902, 1140, 275, 36, 1589, 496, 238, 356, 11, 64, 219]\n"
     ]
    },
    {
     "name": "stderr",
     "output_type": "stream",
     "text": [
      "\n",
      "C:\\Users\\user\\anaconda3\\envs\\yolor\\lib\\site-packages\\seaborn\\_decorators.py:36: FutureWarning: Pass the following variables as keyword args: x, y. From version 0.12, the only valid positional argument will be `data`, and passing other arguments without an explicit keyword will result in an error or misinterpretation.\n",
      "  warnings.warn(\n"
     ]
    },
    {
     "data": {
      "image/png": "[encoded data removed]",
      "text/plain": [
       "<Figure size 432x288 with 1 Axes>"
      ]
     },
     "metadata": {
      "needs_background": "light"
     },
     "output_type": "display_data"
    }
   ],
   "source": [
    "# 클래스 균형 확인 코드\n",
    "from tqdm import tqdm\n",
    "import numpy as np\n",
    "import matplotlib.pyplot as plt\n",
    "import seaborn as sns\n",
    "\n",
    "cate = [0,0,0,0,0,0,0,0,0,0,0,0,0,0]\n",
    "train002_label_list = glob(\"../dataset/train-002/labels/*.txt\")\n",
    "\n",
    "for train_labels in tqdm(train002_label_list): # 1 txt file\n",
    "    with open(train_labels, 'r', encoding='utf-8') as f:\n",
    "        label = f.readlines() # 1 txt file labels\n",
    "        for lab in label: # 1 line, in 1 txt file\n",
    "            lab = lab.split(' ')\n",
    "            cls = int(lab[0])\n",
    "            \n",
    "            if cls == 0:\n",
    "                cate[0] += 1\n",
    "            elif cls == 1:\n",
    "                cate[1] += 1\n",
    "            elif cls == 2:\n",
    "                cate[2] += 1\n",
    "            elif cls == 3:\n",
    "                cate[3] += 1\n",
    "            elif cls == 4:\n",
    "                cate[4] += 1\n",
    "            elif cls == 5:\n",
    "                cate[5] += 1\n",
    "            elif cls == 6:\n",
    "                cate[6] += 1\n",
    "            elif cls == 7:\n",
    "                cate[7] += 1\n",
    "            elif cls == 8:\n",
    "                cate[8] += 1\n",
    "            elif cls == 9:\n",
    "                cate[9] += 1\n",
    "            elif cls == 10:\n",
    "                cate[10] += 1\n",
    "            elif cls == 11:\n",
    "                cate[11] += 1\n",
    "            elif cls == 12:\n",
    "                cate[12] += 1\n",
    "            elif cls == 13:\n",
    "                cate[13] += 1 \n",
    "                \n",
    "result_cate = cate\n",
    "print(result_cate)\n",
    "\n",
    "X = np.array([0,1,2,3,4,5,6,7,8,9,10,11,12,13])\n",
    "Y = np.array(result_cate)\n",
    "\n",
    "ax = sns.barplot(X,Y, order=X)\n",
    "for p, q in zip(ax.patches, Y):\n",
    "    ax.text(p.get_x()+p.get_width()/2.,\n",
    "        p.get_height()*(1.01),\n",
    "        \"{}\".format(q),\n",
    "        ha = 'center'  )\n",
    "    \n",
    "plt.show()"
   ]
  },
  {
   "cell_type": "markdown",
   "id": "81f47c0d",
   "metadata": {},
   "source": [
    "# Class Balance (class = 6, 택시)"
   ]
  },
  {
   "cell_type": "code",
   "execution_count": 86,
   "id": "fb00bab9",
   "metadata": {},
   "outputs": [
    {
     "name": "stderr",
     "output_type": "stream",
     "text": [
      "100%|████████████████████████████████████████████████████████████████████████████| 3515/3515 [00:02<00:00, 1681.60it/s]\n",
      "C:\\Users\\user\\anaconda3\\envs\\yolor\\lib\\site-packages\\seaborn\\_decorators.py:36: FutureWarning: Pass the following variables as keyword args: x, y. From version 0.12, the only valid positional argument will be `data`, and passing other arguments without an explicit keyword will result in an error or misinterpretation.\n",
      "  warnings.warn(\n"
     ]
    },
    {
     "name": "stdout",
     "output_type": "stream",
     "text": [
      "[8852, 4005, 689, 902, 1140, 604, 1564, 1768, 496, 246, 356, 48, 64, 226]\n"
     ]
    },
    {
     "data": {
      "image/png": "[encoded data removed]",
      "text/plain": [
       "<Figure size 432x288 with 1 Axes>"
      ]
     },
     "metadata": {
      "needs_background": "light"
     },
     "output_type": "display_data"
    }
   ],
   "source": [
    "# 클래스 균형 확인 코드\n",
    "from tqdm import tqdm\n",
    "import numpy as np\n",
    "import matplotlib.pyplot as plt\n",
    "import seaborn as sns\n",
    "\n",
    "cate = [0,0,0,0,0,0,0,0,0,0,0,0,0,0]\n",
    "train002_label_list = glob(\"../dataset/train-002/labels/*.txt\")\n",
    "\n",
    "for train_labels in tqdm(train002_label_list): # 1 txt file\n",
    "    with open(train_labels, 'r', encoding='utf-8') as f:\n",
    "        label = f.readlines() # 1 txt file labels\n",
    "        for lab in label: # 1 line, in 1 txt file\n",
    "            lab = lab.split(' ')\n",
    "            cls = int(lab[0])\n",
    "            \n",
    "            if cls == 0:\n",
    "                cate[0] += 1\n",
    "            elif cls == 1:\n",
    "                cate[1] += 1\n",
    "            elif cls == 2:\n",
    "                cate[2] += 1\n",
    "            elif cls == 3:\n",
    "                cate[3] += 1\n",
    "            elif cls == 4:\n",
    "                cate[4] += 1\n",
    "            elif cls == 5:\n",
    "                cate[5] += 1\n",
    "            elif cls == 6:\n",
    "                cate[6] += 1\n",
    "            elif cls == 7:\n",
    "                cate[7] += 1\n",
    "            elif cls == 8:\n",
    "                cate[8] += 1\n",
    "            elif cls == 9:\n",
    "                cate[9] += 1\n",
    "            elif cls == 10:\n",
    "                cate[10] += 1\n",
    "            elif cls == 11:\n",
    "                cate[11] += 1\n",
    "            elif cls == 12:\n",
    "                cate[12] += 1\n",
    "            elif cls == 13:\n",
    "                cate[13] += 1 \n",
    "                \n",
    "result_cate = cate\n",
    "print(result_cate)\n",
    "\n",
    "X = np.array([0,1,2,3,4,5,6,7,8,9,10,11,12,13])\n",
    "Y = np.array(result_cate)\n",
    "\n",
    "ax = sns.barplot(X,Y, order=X)\n",
    "for p, q in zip(ax.patches, Y):\n",
    "    ax.text(p.get_x()+p.get_width()/2.,\n",
    "        p.get_height()*(1.01),\n",
    "        \"{}\".format(q),\n",
    "        ha = 'center'  )\n",
    "    \n",
    "plt.show()"
   ]
  },
  {
   "cell_type": "markdown",
   "id": "c7077305",
   "metadata": {},
   "source": [
    "# Class Balance (class = 9, 오토바이)"
   ]
  },
  {
   "cell_type": "code",
   "execution_count": 90,
   "id": "7e6ae39c",
   "metadata": {},
   "outputs": [
    {
     "name": "stderr",
     "output_type": "stream",
     "text": [
      "100%|████████████████████████████████████████████████████████████████████████████| 5590/5590 [00:03<00:00, 1586.46it/s]\n",
      "C:\\Users\\user\\anaconda3\\envs\\yolor\\lib\\site-packages\\seaborn\\_decorators.py:36: FutureWarning: Pass the following variables as keyword args: x, y. From version 0.12, the only valid positional argument will be `data`, and passing other arguments without an explicit keyword will result in an error or misinterpretation.\n",
      "  warnings.warn(\n"
     ]
    },
    {
     "name": "stdout",
     "output_type": "stream",
     "text": [
      "[13631, 6125, 943, 902, 1140, 1021, 1564, 2135, 496, 2674, 356, 215, 64, 295]\n"
     ]
    },
    {
     "data": {
      "image/png": "[encoded data removed]",
      "text/plain": [
       "<Figure size 432x288 with 1 Axes>"
      ]
     },
     "metadata": {
      "needs_background": "light"
     },
     "output_type": "display_data"
    }
   ],
   "source": [
    "# 클래스 균형 확인 코드\n",
    "from tqdm import tqdm\n",
    "import numpy as np\n",
    "import matplotlib.pyplot as plt\n",
    "import seaborn as sns\n",
    "\n",
    "cate = [0,0,0,0,0,0,0,0,0,0,0,0,0,0]\n",
    "train002_label_list = glob(\"../dataset/train-002/labels/*.txt\")\n",
    "\n",
    "for train_labels in tqdm(train002_label_list): # 1 txt file\n",
    "    with open(train_labels, 'r', encoding='utf-8') as f:\n",
    "        label = f.readlines() # 1 txt file labels\n",
    "        for lab in label: # 1 line, in 1 txt file\n",
    "            lab = lab.split(' ')\n",
    "            cls = int(lab[0])\n",
    "            \n",
    "            if cls == 0:\n",
    "                cate[0] += 1\n",
    "            elif cls == 1:\n",
    "                cate[1] += 1\n",
    "            elif cls == 2:\n",
    "                cate[2] += 1\n",
    "            elif cls == 3:\n",
    "                cate[3] += 1\n",
    "            elif cls == 4:\n",
    "                cate[4] += 1\n",
    "            elif cls == 5:\n",
    "                cate[5] += 1\n",
    "            elif cls == 6:\n",
    "                cate[6] += 1\n",
    "            elif cls == 7:\n",
    "                cate[7] += 1\n",
    "            elif cls == 8:\n",
    "                cate[8] += 1\n",
    "            elif cls == 9:\n",
    "                cate[9] += 1\n",
    "            elif cls == 10:\n",
    "                cate[10] += 1\n",
    "            elif cls == 11:\n",
    "                cate[11] += 1\n",
    "            elif cls == 12:\n",
    "                cate[12] += 1\n",
    "            elif cls == 13:\n",
    "                cate[13] += 1 \n",
    "                \n",
    "result_cate = cate\n",
    "print(result_cate)\n",
    "\n",
    "X = np.array([0,1,2,3,4,5,6,7,8,9,10,11,12,13])\n",
    "Y = np.array(result_cate)\n",
    "\n",
    "ax = sns.barplot(X,Y, order=X)\n",
    "for p, q in zip(ax.patches, Y):\n",
    "    ax.text(p.get_x()+p.get_width()/2.,\n",
    "        p.get_height()*(1.01),\n",
    "        \"{}\".format(q),\n",
    "        ha = 'center'  )\n",
    "    \n",
    "plt.show()"
   ]
  },
  {
   "cell_type": "markdown",
   "id": "66fea888",
   "metadata": {},
   "source": [
    "# Class Balance (class = 11, 자전거)"
   ]
  },
  {
   "cell_type": "code",
   "execution_count": 93,
   "id": "39d877e3",
   "metadata": {},
   "outputs": [
    {
     "name": "stderr",
     "output_type": "stream",
     "text": [
      "100%|████████████████████████████████████████████████████████████████████████████| 6911/6911 [00:02<00:00, 3019.74it/s]"
     ]
    },
    {
     "name": "stdout",
     "output_type": "stream",
     "text": [
      "[16437, 7335, 1256, 902, 1140, 1185, 1564, 2448, 496, 2674, 356, 2966, 64, 316]\n"
     ]
    },
    {
     "name": "stderr",
     "output_type": "stream",
     "text": [
      "\n",
      "C:\\Users\\user\\anaconda3\\envs\\yolor\\lib\\site-packages\\seaborn\\_decorators.py:36: FutureWarning: Pass the following variables as keyword args: x, y. From version 0.12, the only valid positional argument will be `data`, and passing other arguments without an explicit keyword will result in an error or misinterpretation.\n",
      "  warnings.warn(\n"
     ]
    },
    {
     "data": {
      "image/png": "[encoded data removed]",
      "text/plain": [
       "<Figure size 432x288 with 1 Axes>"
      ]
     },
     "metadata": {
      "needs_background": "light"
     },
     "output_type": "display_data"
    }
   ],
   "source": [
    "# 클래스 균형 확인 코드\n",
    "from tqdm import tqdm\n",
    "import numpy as np\n",
    "import matplotlib.pyplot as plt\n",
    "import seaborn as sns\n",
    "\n",
    "cate = [0,0,0,0,0,0,0,0,0,0,0,0,0,0]\n",
    "train002_label_list = glob(\"../dataset/train-002/labels/*.txt\")\n",
    "\n",
    "for train_labels in tqdm(train002_label_list): # 1 txt file\n",
    "    with open(train_labels, 'r', encoding='utf-8') as f:\n",
    "        label = f.readlines() # 1 txt file labels\n",
    "        for lab in label: # 1 line, in 1 txt file\n",
    "            lab = lab.split(' ')\n",
    "            cls = int(lab[0])\n",
    "            \n",
    "            if cls == 0:\n",
    "                cate[0] += 1\n",
    "            elif cls == 1:\n",
    "                cate[1] += 1\n",
    "            elif cls == 2:\n",
    "                cate[2] += 1\n",
    "            elif cls == 3:\n",
    "                cate[3] += 1\n",
    "            elif cls == 4:\n",
    "                cate[4] += 1\n",
    "            elif cls == 5:\n",
    "                cate[5] += 1\n",
    "            elif cls == 6:\n",
    "                cate[6] += 1\n",
    "            elif cls == 7:\n",
    "                cate[7] += 1\n",
    "            elif cls == 8:\n",
    "                cate[8] += 1\n",
    "            elif cls == 9:\n",
    "                cate[9] += 1\n",
    "            elif cls == 10:\n",
    "                cate[10] += 1\n",
    "            elif cls == 11:\n",
    "                cate[11] += 1\n",
    "            elif cls == 12:\n",
    "                cate[12] += 1\n",
    "            elif cls == 13:\n",
    "                cate[13] += 1 \n",
    "                \n",
    "result_cate = cate\n",
    "print(result_cate)\n",
    "\n",
    "X = np.array([0,1,2,3,4,5,6,7,8,9,10,11,12,13])\n",
    "Y = np.array(result_cate)\n",
    "\n",
    "ax = sns.barplot(X,Y, order=X)\n",
    "for p, q in zip(ax.patches, Y):\n",
    "    ax.text(p.get_x()+p.get_width()/2.,\n",
    "        p.get_height()*(1.01),\n",
    "        \"{}\".format(q),\n",
    "        ha = 'center'  )\n",
    "    \n",
    "plt.show()"
   ]
  },
  {
   "cell_type": "markdown",
   "id": "2b0b6522",
   "metadata": {},
   "source": [
    "# Class Balance (class = 5, 트럭)"
   ]
  },
  {
   "cell_type": "code",
   "execution_count": 15,
   "id": "4f989ae8",
   "metadata": {},
   "outputs": [
    {
     "name": "stderr",
     "output_type": "stream",
     "text": [
      "100%|█████████████████████████████████████████████████████████████████████████████| 9001/9001 [00:13<00:00, 668.62it/s]\n",
      "C:\\Users\\user\\anaconda3\\envs\\yolor\\lib\\site-packages\\seaborn\\_decorators.py:36: FutureWarning: Pass the following variables as keyword args: x, y. From version 0.12, the only valid positional argument will be `data`, and passing other arguments without an explicit keyword will result in an error or misinterpretation.\n",
      "  warnings.warn(\n"
     ]
    },
    {
     "name": "stdout",
     "output_type": "stream",
     "text": [
      "[20869, 9601, 1678, 902, 1140, 3545, 1564, 4930, 496, 2674, 356, 2966, 64, 1056]\n"
     ]
    },
    {
     "data": {
      "image/png": "[encoded data removed]",
      "text/plain": [
       "<Figure size 432x288 with 1 Axes>"
      ]
     },
     "metadata": {
      "needs_background": "light"
     },
     "output_type": "display_data"
    }
   ],
   "source": [
    "# 클래스 균형 확인 코드\n",
    "from tqdm import tqdm\n",
    "import numpy as np\n",
    "import matplotlib.pyplot as plt\n",
    "import seaborn as sns\n",
    "\n",
    "cate = [0,0,0,0,0,0,0,0,0,0,0,0,0,0]\n",
    "train002_label_list = glob(\"../dataset/train-truck/labels/*.txt\")\n",
    "\n",
    "for train_labels in tqdm(train002_label_list): # 1 txt file\n",
    "    with open(train_labels, 'r', encoding='utf-8') as f:\n",
    "        label = f.readlines() # 1 txt file labels\n",
    "        for lab in label: # 1 line, in 1 txt file\n",
    "            lab = lab.split(' ')\n",
    "            cls = int(lab[0])\n",
    "            \n",
    "            if cls == 0:\n",
    "                cate[0] += 1\n",
    "            elif cls == 1:\n",
    "                cate[1] += 1\n",
    "            elif cls == 2:\n",
    "                cate[2] += 1\n",
    "            elif cls == 3:\n",
    "                cate[3] += 1\n",
    "            elif cls == 4:\n",
    "                cate[4] += 1\n",
    "            elif cls == 5:\n",
    "                cate[5] += 1\n",
    "            elif cls == 6:\n",
    "                cate[6] += 1\n",
    "            elif cls == 7:\n",
    "                cate[7] += 1\n",
    "            elif cls == 8:\n",
    "                cate[8] += 1\n",
    "            elif cls == 9:\n",
    "                cate[9] += 1\n",
    "            elif cls == 10:\n",
    "                cate[10] += 1\n",
    "            elif cls == 11:\n",
    "                cate[11] += 1\n",
    "            elif cls == 12:\n",
    "                cate[12] += 1\n",
    "            elif cls == 13:\n",
    "                cate[13] += 1 \n",
    "                \n",
    "result_cate = cate\n",
    "print(result_cate)\n",
    "\n",
    "X = np.array([0,1,2,3,4,5,6,7,8,9,10,11,12,13])\n",
    "Y = np.array(result_cate)\n",
    "\n",
    "ax = sns.barplot(X,Y, order=X)\n",
    "for p, q in zip(ax.patches, Y):\n",
    "    ax.text(p.get_x()+p.get_width()/2.,\n",
    "        p.get_height()*(1.01),\n",
    "        \"{}\".format(q),\n",
    "        ha = 'center'  )\n",
    "    \n",
    "plt.show()"
   ]
  },
  {
   "cell_type": "markdown",
   "id": "a03387f7",
   "metadata": {},
   "source": [
    "# Class Balance (class = 2, 승합차)"
   ]
  },
  {
   "cell_type": "code",
   "execution_count": 25,
   "id": "ba29de78",
   "metadata": {},
   "outputs": [
    {
     "name": "stderr",
     "output_type": "stream",
     "text": [
      "100%|███████████████████████████████████████████████████████████████████████████| 11531/11531 [00:20<00:00, 561.43it/s]"
     ]
    },
    {
     "name": "stdout",
     "output_type": "stream",
     "text": [
      "[28214, 12834, 4581, 902, 1140, 3545, 1564, 7492, 496, 2674, 356, 2966, 64, 2212]\n"
     ]
    },
    {
     "name": "stderr",
     "output_type": "stream",
     "text": [
      "\n",
      "C:\\Users\\user\\anaconda3\\envs\\yolor\\lib\\site-packages\\seaborn\\_decorators.py:36: FutureWarning: Pass the following variables as keyword args: x, y. From version 0.12, the only valid positional argument will be `data`, and passing other arguments without an explicit keyword will result in an error or misinterpretation.\n",
      "  warnings.warn(\n"
     ]
    },
    {
     "data": {
      "image/png": "[encoded data removed]",
      "text/plain": [
       "<Figure size 432x288 with 1 Axes>"
      ]
     },
     "metadata": {
      "needs_background": "light"
     },
     "output_type": "display_data"
    }
   ],
   "source": [
    "# 클래스 균형 확인 코드\n",
    "from tqdm import tqdm\n",
    "import numpy as np\n",
    "import matplotlib.pyplot as plt\n",
    "import seaborn as sns\n",
    "\n",
    "cate = [0,0,0,0,0,0,0,0,0,0,0,0,0,0]\n",
    "train002_label_list = glob(\"../dataset/train-van/labels/*.txt\")\n",
    "\n",
    "for train_labels in tqdm(train002_label_list): # 1 txt file\n",
    "    with open(train_labels, 'r', encoding='utf-8') as f:\n",
    "        label = f.readlines() # 1 txt file labels\n",
    "        for lab in label: # 1 line, in 1 txt file\n",
    "            lab = lab.split(' ')\n",
    "            cls = int(lab[0])\n",
    "            \n",
    "            if cls == 0:\n",
    "                cate[0] += 1\n",
    "            elif cls == 1:\n",
    "                cate[1] += 1\n",
    "            elif cls == 2:\n",
    "                cate[2] += 1\n",
    "            elif cls == 3:\n",
    "                cate[3] += 1\n",
    "            elif cls == 4:\n",
    "                cate[4] += 1\n",
    "            elif cls == 5:\n",
    "                cate[5] += 1\n",
    "            elif cls == 6:\n",
    "                cate[6] += 1\n",
    "            elif cls == 7:\n",
    "                cate[7] += 1\n",
    "            elif cls == 8:\n",
    "                cate[8] += 1\n",
    "            elif cls == 9:\n",
    "                cate[9] += 1\n",
    "            elif cls == 10:\n",
    "                cate[10] += 1\n",
    "            elif cls == 11:\n",
    "                cate[11] += 1\n",
    "            elif cls == 12:\n",
    "                cate[12] += 1\n",
    "            elif cls == 13:\n",
    "                cate[13] += 1 \n",
    "                \n",
    "result_cate = cate\n",
    "print(result_cate)\n",
    "\n",
    "X = np.array([0,1,2,3,4,5,6,7,8,9,10,11,12,13])\n",
    "Y = np.array(result_cate)\n",
    "\n",
    "ax = sns.barplot(X,Y, order=X)\n",
    "for p, q in zip(ax.patches, Y):\n",
    "    ax.text(p.get_x()+p.get_width()/2.,\n",
    "        p.get_height()*(1.01),\n",
    "        \"{}\".format(q),\n",
    "        ha = 'center'  )\n",
    "    \n",
    "plt.show()"
   ]
  },
  {
   "cell_type": "markdown",
   "id": "19ca708b",
   "metadata": {},
   "source": [
    "# Class Balance (class = 13, 쇼핑카트)"
   ]
  },
  {
   "cell_type": "code",
   "execution_count": 7,
   "id": "0827216a",
   "metadata": {},
   "outputs": [
    {
     "name": "stderr",
     "output_type": "stream",
     "text": [
      "100%|███████████████████████████████████████████████████████████████████████████| 17392/17392 [00:31<00:00, 553.46it/s]\n",
      "C:\\Users\\user\\anaconda3\\envs\\yolor\\lib\\site-packages\\seaborn\\_decorators.py:36: FutureWarning: Pass the following variables as keyword args: x, y. From version 0.12, the only valid positional argument will be `data`, and passing other arguments without an explicit keyword will result in an error or misinterpretation.\n",
      "  warnings.warn(\n"
     ]
    },
    {
     "name": "stdout",
     "output_type": "stream",
     "text": [
      "[39330, 18170, 4581, 902, 1140, 3545, 1564, 9804, 496, 2674, 356, 2966, 64, 8997]\n"
     ]
    },
    {
     "data": {
      "image/png": "[encoded data removed]",
      "text/plain": [
       "<Figure size 432x288 with 1 Axes>"
      ]
     },
     "metadata": {
      "needs_background": "light"
     },
     "output_type": "display_data"
    }
   ],
   "source": [
    "# 클래스 균형 확인 코드\n",
    "from tqdm import tqdm\n",
    "import numpy as np\n",
    "import matplotlib.pyplot as plt\n",
    "import seaborn as sns\n",
    "\n",
    "cate = [0,0,0,0,0,0,0,0,0,0,0,0,0,0]\n",
    "train002_label_list = glob(\"../dataset/train-cart/labels/*.txt\")\n",
    "\n",
    "for train_labels in tqdm(train002_label_list): # 1 txt file\n",
    "    with open(train_labels, 'r', encoding='utf-8') as f:\n",
    "        label = f.readlines() # 1 txt file labels\n",
    "        for lab in label: # 1 line, in 1 txt file\n",
    "            lab = lab.split(' ')\n",
    "            cls = int(lab[0])\n",
    "            \n",
    "            if cls == 0:\n",
    "                cate[0] += 1\n",
    "            elif cls == 1:\n",
    "                cate[1] += 1\n",
    "            elif cls == 2:\n",
    "                cate[2] += 1\n",
    "            elif cls == 3:\n",
    "                cate[3] += 1\n",
    "            elif cls == 4:\n",
    "                cate[4] += 1\n",
    "            elif cls == 5:\n",
    "                cate[5] += 1\n",
    "            elif cls == 6:\n",
    "                cate[6] += 1\n",
    "            elif cls == 7:\n",
    "                cate[7] += 1\n",
    "            elif cls == 8:\n",
    "                cate[8] += 1\n",
    "            elif cls == 9:\n",
    "                cate[9] += 1\n",
    "            elif cls == 10:\n",
    "                cate[10] += 1\n",
    "            elif cls == 11:\n",
    "                cate[11] += 1\n",
    "            elif cls == 12:\n",
    "                cate[12] += 1\n",
    "            elif cls == 13:\n",
    "                cate[13] += 1 \n",
    "                \n",
    "result_cate = cate\n",
    "print(result_cate)\n",
    "\n",
    "X = np.array([0,1,2,3,4,5,6,7,8,9,10,11,12,13])\n",
    "Y = np.array(result_cate)\n",
    "\n",
    "ax = sns.barplot(X,Y, order=X)\n",
    "for p, q in zip(ax.patches, Y):\n",
    "    ax.text(p.get_x()+p.get_width()/2.,\n",
    "        p.get_height()*(1.01),\n",
    "        \"{}\".format(q),\n",
    "        ha = 'center'  )\n",
    "    \n",
    "plt.show()"
   ]
  },
  {
   "cell_type": "markdown",
   "id": "766d46c6",
   "metadata": {},
   "source": [
    "# Class Balance (class = 7, 성인)"
   ]
  },
  {
   "cell_type": "code",
   "execution_count": 13,
   "id": "0124a201",
   "metadata": {},
   "outputs": [
    {
     "name": "stderr",
     "output_type": "stream",
     "text": [
      "100%|███████████████████████████████████████████████████████████████████████████| 24624/24624 [00:47<00:00, 519.35it/s]"
     ]
    },
    {
     "name": "stdout",
     "output_type": "stream",
     "text": [
      "[58469, 28152, 4581, 902, 1140, 3545, 1564, 20747, 496, 2674, 356, 2966, 64, 8997]\n"
     ]
    },
    {
     "name": "stderr",
     "output_type": "stream",
     "text": [
      "\n",
      "C:\\Users\\user\\anaconda3\\envs\\yolor\\lib\\site-packages\\seaborn\\_decorators.py:36: FutureWarning: Pass the following variables as keyword args: x, y. From version 0.12, the only valid positional argument will be `data`, and passing other arguments without an explicit keyword will result in an error or misinterpretation.\n",
      "  warnings.warn(\n"
     ]
    },
    {
     "data": {
      "image/png": "[encoded data removed]",
      "text/plain": [
       "<Figure size 432x288 with 1 Axes>"
      ]
     },
     "metadata": {
      "needs_background": "light"
     },
     "output_type": "display_data"
    }
   ],
   "source": [
    "# 클래스 균형 확인 코드\n",
    "from tqdm import tqdm\n",
    "import numpy as np\n",
    "import matplotlib.pyplot as plt\n",
    "import seaborn as sns\n",
    "\n",
    "cate = [0,0,0,0,0,0,0,0,0,0,0,0,0,0]\n",
    "train002_label_list = glob(\"../dataset/train-adult/labels/*.txt\")\n",
    "\n",
    "for train_labels in tqdm(train002_label_list): # 1 txt file\n",
    "    with open(train_labels, 'r', encoding='utf-8') as f:\n",
    "        label = f.readlines() # 1 txt file labels\n",
    "        for lab in label: # 1 line, in 1 txt file\n",
    "            lab = lab.split(' ')\n",
    "            cls = int(lab[0])\n",
    "            \n",
    "            if cls == 0:\n",
    "                cate[0] += 1\n",
    "            elif cls == 1:\n",
    "                cate[1] += 1\n",
    "            elif cls == 2:\n",
    "                cate[2] += 1\n",
    "            elif cls == 3:\n",
    "                cate[3] += 1\n",
    "            elif cls == 4:\n",
    "                cate[4] += 1\n",
    "            elif cls == 5:\n",
    "                cate[5] += 1\n",
    "            elif cls == 6:\n",
    "                cate[6] += 1\n",
    "            elif cls == 7:\n",
    "                cate[7] += 1\n",
    "            elif cls == 8:\n",
    "                cate[8] += 1\n",
    "            elif cls == 9:\n",
    "                cate[9] += 1\n",
    "            elif cls == 10:\n",
    "                cate[10] += 1\n",
    "            elif cls == 11:\n",
    "                cate[11] += 1\n",
    "            elif cls == 12:\n",
    "                cate[12] += 1\n",
    "            elif cls == 13:\n",
    "                cate[13] += 1 \n",
    "                \n",
    "result_cate = cate\n",
    "print(result_cate)\n",
    "\n",
    "X = np.array([0,1,2,3,4,5,6,7,8,9,10,11,12,13])\n",
    "Y = np.array(result_cate)\n",
    "\n",
    "ax = sns.barplot(X,Y, order=X)\n",
    "for p, q in zip(ax.patches, Y):\n",
    "    ax.text(p.get_x()+p.get_width()/2.,\n",
    "        p.get_height()*(1.01),\n",
    "        \"{}\".format(q),\n",
    "        ha = 'center'  )\n",
    "    \n",
    "plt.show()"
   ]
  },
  {
   "cell_type": "markdown",
   "id": "c56614c5",
   "metadata": {},
   "source": [
    "# Class Balance (class = 1, SUV)"
   ]
  },
  {
   "cell_type": "code",
   "execution_count": 19,
   "id": "7b519038",
   "metadata": {},
   "outputs": [
    {
     "name": "stderr",
     "output_type": "stream",
     "text": [
      "100%|███████████████████████████████████████████████████████████████████████████| 24637/24637 [00:43<00:00, 563.65it/s]"
     ]
    },
    {
     "name": "stdout",
     "output_type": "stream",
     "text": [
      "[58524, 28173, 4581, 902, 1140, 3545, 1564, 20747, 496, 2674, 356, 2966, 64, 8997]\n"
     ]
    },
    {
     "name": "stderr",
     "output_type": "stream",
     "text": [
      "\n",
      "C:\\Users\\user\\anaconda3\\envs\\yolor\\lib\\site-packages\\seaborn\\_decorators.py:36: FutureWarning: Pass the following variables as keyword args: x, y. From version 0.12, the only valid positional argument will be `data`, and passing other arguments without an explicit keyword will result in an error or misinterpretation.\n",
      "  warnings.warn(\n"
     ]
    },
    {
     "data": {
      "image/png": "[encoded data removed]",
      "text/plain": [
       "<Figure size 432x288 with 1 Axes>"
      ]
     },
     "metadata": {
      "needs_background": "light"
     },
     "output_type": "display_data"
    }
   ],
   "source": [
    "# 클래스 균형 확인 코드\n",
    "from tqdm import tqdm\n",
    "import numpy as np\n",
    "import matplotlib.pyplot as plt\n",
    "import seaborn as sns\n",
    "\n",
    "cate = [0,0,0,0,0,0,0,0,0,0,0,0,0,0]\n",
    "train002_label_list = glob(\"../dataset/train-suv/labels/*.txt\")\n",
    "\n",
    "for train_labels in tqdm(train002_label_list): # 1 txt file\n",
    "    with open(train_labels, 'r', encoding='utf-8') as f:\n",
    "        label = f.readlines() # 1 txt file labels\n",
    "        for lab in label: # 1 line, in 1 txt file\n",
    "            lab = lab.split(' ')\n",
    "            cls = int(lab[0])\n",
    "            \n",
    "            if cls == 0:\n",
    "                cate[0] += 1\n",
    "            elif cls == 1:\n",
    "                cate[1] += 1\n",
    "            elif cls == 2:\n",
    "                cate[2] += 1\n",
    "            elif cls == 3:\n",
    "                cate[3] += 1\n",
    "            elif cls == 4:\n",
    "                cate[4] += 1\n",
    "            elif cls == 5:\n",
    "                cate[5] += 1\n",
    "            elif cls == 6:\n",
    "                cate[6] += 1\n",
    "            elif cls == 7:\n",
    "                cate[7] += 1\n",
    "            elif cls == 8:\n",
    "                cate[8] += 1\n",
    "            elif cls == 9:\n",
    "                cate[9] += 1\n",
    "            elif cls == 10:\n",
    "                cate[10] += 1\n",
    "            elif cls == 11:\n",
    "                cate[11] += 1\n",
    "            elif cls == 12:\n",
    "                cate[12] += 1\n",
    "            elif cls == 13:\n",
    "                cate[13] += 1 \n",
    "                \n",
    "result_cate = cate\n",
    "print(result_cate)\n",
    "\n",
    "X = np.array([0,1,2,3,4,5,6,7,8,9,10,11,12,13])\n",
    "Y = np.array(result_cate)\n",
    "\n",
    "ax = sns.barplot(X,Y, order=X)\n",
    "for p, q in zip(ax.patches, Y):\n",
    "    ax.text(p.get_x()+p.get_width()/2.,\n",
    "        p.get_height()*(1.01),\n",
    "        \"{}\".format(q),\n",
    "        ha = 'center'  )\n",
    "    \n",
    "plt.show()"
   ]
  }
 ],
 "metadata": {
  "kernelspec": {
   "display_name": "Python 3 (ipykernel)",
   "language": "python",
   "name": "python3"
  },
  "language_info": {
   "codemirror_mode": {
    "name": "ipython",
    "version": 3
   },
   "file_extension": ".py",
   "mimetype": "text/x-python",
   "name": "python",
   "nbconvert_exporter": "python",
   "pygments_lexer": "ipython3",
   "version": "3.8.13"
  }
 },
 "nbformat": 4,
 "nbformat_minor": 5
}
