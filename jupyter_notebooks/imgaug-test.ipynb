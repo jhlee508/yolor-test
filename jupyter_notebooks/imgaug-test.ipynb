{
 "cells": [
  {
   "cell_type": "code",
   "execution_count": 1,
   "id": "31c529ea",
   "metadata": {},
   "outputs": [],
   "source": [
    "import cv2\n",
    "import numpy as np\n",
    "import imgaug as ia\n",
    "import imgaug.augmenters as iaa\n",
    "import os"
   ]
  },
  {
   "cell_type": "code",
   "execution_count": 2,
   "id": "9c10768d",
   "metadata": {},
   "outputs": [],
   "source": [
    "# 클래스 균형 확인 코드\n",
    "from tqdm import tqdm\n",
    "import numpy as np\n",
    "import matplotlib.pyplot as plt\n",
    "import seaborn as sns\n",
    "\n",
    "def check_class_balance(class_target_list):\n",
    "    cate = [0,0,0,0,0,0,0,0,0,0,0,0,0,0]\n",
    "\n",
    "    for train_labels in tqdm(class_target_list): # 1 txt file\n",
    "        with open(train_labels, 'r', encoding='utf-8') as f:\n",
    "            label = f.readlines() # 1 txt file labels\n",
    "            for lab in label: # 1 line, in 1 txt file\n",
    "                lab = lab.split(' ')\n",
    "                cls = int(lab[0])\n",
    "\n",
    "                if cls == 0:\n",
    "                    cate[0] += 1\n",
    "                elif cls == 1:\n",
    "                    cate[1] += 1\n",
    "                elif cls == 2:\n",
    "                    cate[2] += 1\n",
    "                elif cls == 3:\n",
    "                    cate[3] += 1\n",
    "                elif cls == 4:\n",
    "                    cate[4] += 1\n",
    "                elif cls == 5:\n",
    "                    cate[5] += 1\n",
    "                elif cls == 6:\n",
    "                    cate[6] += 1\n",
    "                elif cls == 7:\n",
    "                    cate[7] += 1\n",
    "                elif cls == 8:\n",
    "                    cate[8] += 1\n",
    "                elif cls == 9:\n",
    "                    cate[9] += 1\n",
    "                elif cls == 10:\n",
    "                    cate[10] += 1\n",
    "                elif cls == 11:\n",
    "                    cate[11] += 1\n",
    "                elif cls == 12:\n",
    "                    cate[12] += 1\n",
    "                elif cls == 13:\n",
    "                    cate[13] += 1 \n",
    "\n",
    "    result_cate = cate\n",
    "    print(result_cate)\n",
    "\n",
    "    X = np.array([0,1,2,3,4,5,6,7,8,9,10,11,12,13])\n",
    "    Y = np.array(result_cate)\n",
    "\n",
    "    ax = sns.barplot(X,Y, order=X)\n",
    "    for p, q in zip(ax.patches, Y):\n",
    "        ax.text(p.get_x()+p.get_width()/2.,\n",
    "            p.get_height()*(1.01),\n",
    "            \"{}\".format(q),\n",
    "            ha = 'center'  )\n",
    "\n",
    "    plt.show()"
   ]
  },
  {
   "cell_type": "code",
   "execution_count": 3,
   "id": "b0f7e9ba",
   "metadata": {},
   "outputs": [],
   "source": [
    "def yolobbox2bbox(x, y, w, h, w_t, h_t):\n",
    "    x1, y1 = (x - (w / 2.0)) * w_t, (y - (h / 2.0)) * h_t\n",
    "    x2, y2 = (x + (w / 2.0)) * w_t, (y + (h / 2.0)) * h_t\n",
    "    x1 = round(x1, 1)\n",
    "    y1 = round(y1, 1)\n",
    "    x2 = round(x2, 1)\n",
    "    y2 = round(y2, 1)\n",
    "    \n",
    "    return (x1, y1, x2, y2)\n",
    "\n",
    "def bbox2yolobbox(x1, y1, x2, y2, w_t, h_t):\n",
    "    x = round((x2 + x1) / (2 * w_t), 6)\n",
    "    y = round((y2 + y1) / (2 * h_t), 6)\n",
    "    w = round((x2 - x1) / w_t, 6)\n",
    "    h = round((y2 - y1) / h_t, 6)\n",
    "    \n",
    "    return (x, y, w, h)"
   ]
  },
  {
   "cell_type": "code",
   "execution_count": 4,
   "id": "5d1e5040",
   "metadata": {},
   "outputs": [
    {
     "name": "stdout",
     "output_type": "stream",
     "text": [
      "C:\\Users\\user\\Desktop\\jh\\yolor\n"
     ]
    }
   ],
   "source": [
    "%cd yolor"
   ]
  },
  {
   "cell_type": "code",
   "execution_count": 5,
   "id": "d1bf6064",
   "metadata": {},
   "outputs": [
    {
     "name": "stdout",
     "output_type": "stream",
     "text": [
      "38696\n"
     ]
    }
   ],
   "source": [
    "from glob import glob\n",
    "\n",
    "all_train_label_list = glob(\"../dataset/train-001-aug/labels/*.txt\")\n",
    "\n",
    "print(len(all_train_label_list))"
   ]
  },
  {
   "cell_type": "code",
   "execution_count": 6,
   "id": "bf4ceb63",
   "metadata": {},
   "outputs": [],
   "source": [
    "from tqdm import tqdm\n",
    "\n",
    "def find_class_images(target_class, all_train_label_list):\n",
    "    target_class = target_class\n",
    "    num_class_target = 0\n",
    "    class_target_list = []\n",
    "\n",
    "    for train_labels in tqdm(all_train_label_list): # 1 txt file\n",
    "        with open(train_labels, 'r', encoding='utf-8') as f:\n",
    "            label = f.readlines() # 1 txt file labels\n",
    "            for lab in label: # 1 line, in 1 txt file\n",
    "                lab = lab.split(' ')\n",
    "                cls, x, y, w, h = int(lab[0]), float(lab[1]), float(lab[2]), float(lab[3]), float(lab[4])\n",
    "\n",
    "                if cls == target_class:\n",
    "                    num_class_target += 1\n",
    "\n",
    "                    class_target_list.append(train_labels)\n",
    "\n",
    "    print(\"Class Num:\", num_class_target)\n",
    "    print(\"Image Num:\", len(set(class_target_list)))\n",
    "    \n",
    "    return class_target_list"
   ]
  },
  {
   "cell_type": "code",
   "execution_count": 365,
   "id": "050e485a",
   "metadata": {
    "scrolled": false
   },
   "outputs": [
    {
     "name": "stderr",
     "output_type": "stream",
     "text": [
      "100%|███████████████████████████████████████████████████████████████████████████████| 55/55 [00:00<00:00, 10026.81it/s]"
     ]
    },
    {
     "name": "stdout",
     "output_type": "stream",
     "text": [
      "[151, 65, 49, 0, 0, 0, 0, 117, 6, 0, 0, 0, 64, 6]\n"
     ]
    },
    {
     "name": "stderr",
     "output_type": "stream",
     "text": [
      "\n",
      "C:\\Users\\user\\anaconda3\\envs\\yolor\\lib\\site-packages\\seaborn\\_decorators.py:36: FutureWarning: Pass the following variables as keyword args: x, y. From version 0.12, the only valid positional argument will be `data`, and passing other arguments without an explicit keyword will result in an error or misinterpretation.\n",
      "  warnings.warn(\n"
     ]
    },
    {
     "data": {
      "image/png": "[encoded data removed]",
      "text/plain": [
       "<Figure size 432x288 with 1 Axes>"
      ]
     },
     "metadata": {
      "needs_background": "light"
     },
     "output_type": "display_data"
    }
   ],
   "source": [
    "# Class 12\n",
    "class_target_set = set(class_target_list)\n",
    "check_class_balance(class_target_set)"
   ]
  },
  {
   "cell_type": "code",
   "execution_count": 367,
   "id": "6f9c4a37",
   "metadata": {},
   "outputs": [
    {
     "name": "stderr",
     "output_type": "stream",
     "text": [
      "100%|█████████████████████████████████████████████████████████████████████████████| 129/129 [00:00<00:00, 26325.36it/s]"
     ]
    },
    {
     "name": "stdout",
     "output_type": "stream",
     "text": [
      "[249, 168, 26, 33, 0, 23, 0, 146, 0, 170, 356, 0, 0, 0]\n"
     ]
    },
    {
     "name": "stderr",
     "output_type": "stream",
     "text": [
      "\n",
      "C:\\Users\\user\\anaconda3\\envs\\yolor\\lib\\site-packages\\seaborn\\_decorators.py:36: FutureWarning: Pass the following variables as keyword args: x, y. From version 0.12, the only valid positional argument will be `data`, and passing other arguments without an explicit keyword will result in an error or misinterpretation.\n",
      "  warnings.warn(\n"
     ]
    },
    {
     "data": {
      "image/png": "[encoded data removed]",
      "text/plain": [
       "<Figure size 432x288 with 1 Axes>"
      ]
     },
     "metadata": {
      "needs_background": "light"
     },
     "output_type": "display_data"
    }
   ],
   "source": [
    "# Class 10\n",
    "class_target_set = set(class_target_list)\n",
    "check_class_balance(class_target_set)"
   ]
  },
  {
   "cell_type": "code",
   "execution_count": 369,
   "id": "a8f78b33",
   "metadata": {},
   "outputs": [
    {
     "name": "stderr",
     "output_type": "stream",
     "text": [
      "100%|█████████████████████████████████████████████████████████████████████████████| 454/454 [00:00<00:00, 10962.34it/s]"
     ]
    },
    {
     "name": "stdout",
     "output_type": "stream",
     "text": [
      "[1217, 635, 91, 3, 2, 52, 7, 802, 496, 15, 0, 0, 6, 190]\n"
     ]
    },
    {
     "name": "stderr",
     "output_type": "stream",
     "text": [
      "\n",
      "C:\\Users\\user\\anaconda3\\envs\\yolor\\lib\\site-packages\\seaborn\\_decorators.py:36: FutureWarning: Pass the following variables as keyword args: x, y. From version 0.12, the only valid positional argument will be `data`, and passing other arguments without an explicit keyword will result in an error or misinterpretation.\n",
      "  warnings.warn(\n"
     ]
    },
    {
     "data": {
      "image/png": "[encoded data removed]",
      "text/plain": [
       "<Figure size 432x288 with 1 Axes>"
      ]
     },
     "metadata": {
      "needs_background": "light"
     },
     "output_type": "display_data"
    }
   ],
   "source": [
    "# Class 8\n",
    "class_target_set = set(class_target_list)\n",
    "check_class_balance(class_target_set)"
   ]
  },
  {
   "cell_type": "code",
   "execution_count": 371,
   "id": "4c862559",
   "metadata": {},
   "outputs": [
    {
     "name": "stderr",
     "output_type": "stream",
     "text": [
      "100%|█████████████████████████████████████████████████████████████████████████████| 412/412 [00:00<00:00, 10000.83it/s]"
     ]
    },
    {
     "name": "stdout",
     "output_type": "stream",
     "text": [
      "[1288, 738, 50, 902, 6, 26, 8, 411, 3, 63, 32, 11, 0, 1]\n"
     ]
    },
    {
     "name": "stderr",
     "output_type": "stream",
     "text": [
      "\n",
      "C:\\Users\\user\\anaconda3\\envs\\yolor\\lib\\site-packages\\seaborn\\_decorators.py:36: FutureWarning: Pass the following variables as keyword args: x, y. From version 0.12, the only valid positional argument will be `data`, and passing other arguments without an explicit keyword will result in an error or misinterpretation.\n",
      "  warnings.warn(\n"
     ]
    },
    {
     "data": {
      "image/png": "[encoded data removed]",
      "text/plain": [
       "<Figure size 432x288 with 1 Axes>"
      ]
     },
     "metadata": {
      "needs_background": "light"
     },
     "output_type": "display_data"
    }
   ],
   "source": [
    "# Class 3\n",
    "class_target_set = set(class_target_list)\n",
    "check_class_balance(class_target_set)"
   ]
  },
  {
   "cell_type": "code",
   "execution_count": 373,
   "id": "c603940b",
   "metadata": {},
   "outputs": [
    {
     "name": "stderr",
     "output_type": "stream",
     "text": [
      "100%|███████████████████████████████████████████████████████████████████████████| 1104/1104 [00:00<00:00, 16126.99it/s]\n",
      "C:\\Users\\user\\anaconda3\\envs\\yolor\\lib\\site-packages\\seaborn\\_decorators.py:36: FutureWarning: Pass the following variables as keyword args: x, y. From version 0.12, the only valid positional argument will be `data`, and passing other arguments without an explicit keyword will result in an error or misinterpretation.\n",
      "  warnings.warn(\n"
     ]
    },
    {
     "name": "stdout",
     "output_type": "stream",
     "text": [
      "[2895, 1100, 157, 7, 1140, 175, 21, 136, 3, 10, 0, 0, 0, 23]\n"
     ]
    },
    {
     "data": {
      "image/png": "[encoded data removed]",
      "text/plain": [
       "<Figure size 432x288 with 1 Axes>"
      ]
     },
     "metadata": {
      "needs_background": "light"
     },
     "output_type": "display_data"
    }
   ],
   "source": [
    "# Class 4\n",
    "class_target_set = set(class_target_list)\n",
    "check_class_balance(class_target_set)"
   ]
  },
  {
   "cell_type": "code",
   "execution_count": 375,
   "id": "900cc2f9",
   "metadata": {},
   "outputs": [
    {
     "name": "stderr",
     "output_type": "stream",
     "text": [
      "100%|███████████████████████████████████████████████████████████████████████████| 1431/1431 [00:00<00:00, 13999.34it/s]\n",
      "C:\\Users\\user\\anaconda3\\envs\\yolor\\lib\\site-packages\\seaborn\\_decorators.py:36: FutureWarning: Pass the following variables as keyword args: x, y. From version 0.12, the only valid positional argument will be `data`, and passing other arguments without an explicit keyword will result in an error or misinterpretation.\n",
      "  warnings.warn(\n"
     ]
    },
    {
     "name": "stdout",
     "output_type": "stream",
     "text": [
      "[3165, 1380, 334, 6, 20, 333, 1564, 187, 10, 9, 0, 37, 0, 7]\n"
     ]
    },
    {
     "data": {
      "image/png": "[encoded data removed]",
      "text/plain": [
       "<Figure size 432x288 with 1 Axes>"
      ]
     },
     "metadata": {
      "needs_background": "light"
     },
     "output_type": "display_data"
    }
   ],
   "source": [
    "# Class 6\n",
    "class_target_set = set(class_target_list)\n",
    "check_class_balance(class_target_set)"
   ]
  },
  {
   "cell_type": "code",
   "execution_count": 377,
   "id": "a5325192",
   "metadata": {},
   "outputs": [
    {
     "name": "stderr",
     "output_type": "stream",
     "text": [
      "100%|███████████████████████████████████████████████████████████████████████████| 2244/2244 [00:00<00:00, 20227.89it/s]"
     ]
    },
    {
     "name": "stdout",
     "output_type": "stream",
     "text": [
      "[5232, 2383, 290, 126, 5, 443, 12, 493, 9, 2674, 311, 167, 0, 71]\n"
     ]
    },
    {
     "name": "stderr",
     "output_type": "stream",
     "text": [
      "\n",
      "C:\\Users\\user\\anaconda3\\envs\\yolor\\lib\\site-packages\\seaborn\\_decorators.py:36: FutureWarning: Pass the following variables as keyword args: x, y. From version 0.12, the only valid positional argument will be `data`, and passing other arguments without an explicit keyword will result in an error or misinterpretation.\n",
      "  warnings.warn(\n"
     ]
    },
    {
     "data": {
      "image/png": "[encoded data removed]",
      "text/plain": [
       "<Figure size 432x288 with 1 Axes>"
      ]
     },
     "metadata": {
      "needs_background": "light"
     },
     "output_type": "display_data"
    }
   ],
   "source": [
    "# Class 9\n",
    "class_target_set = set(class_target_list)\n",
    "check_class_balance(class_target_set)"
   ]
  },
  {
   "cell_type": "code",
   "execution_count": 379,
   "id": "083d0a50",
   "metadata": {},
   "outputs": [
    {
     "name": "stderr",
     "output_type": "stream",
     "text": [
      "100%|███████████████████████████████████████████████████████████████████████████| 1424/1424 [00:00<00:00, 14200.17it/s]\n",
      "C:\\Users\\user\\anaconda3\\envs\\yolor\\lib\\site-packages\\seaborn\\_decorators.py:36: FutureWarning: Pass the following variables as keyword args: x, y. From version 0.12, the only valid positional argument will be `data`, and passing other arguments without an explicit keyword will result in an error or misinterpretation.\n",
      "  warnings.warn(\n"
     ]
    },
    {
     "name": "stdout",
     "output_type": "stream",
     "text": [
      "[3001, 1278, 320, 54, 0, 195, 26, 357, 0, 74, 0, 2966, 0, 27]\n"
     ]
    },
    {
     "data": {
      "image/png": "[encoded data removed]",
      "text/plain": [
       "<Figure size 432x288 with 1 Axes>"
      ]
     },
     "metadata": {
      "needs_background": "light"
     },
     "output_type": "display_data"
    }
   ],
   "source": [
    "# Class 11\n",
    "class_target_set = set(class_target_list)\n",
    "check_class_balance(class_target_set)"
   ]
  },
  {
   "cell_type": "code",
   "execution_count": 381,
   "id": "eaa20354",
   "metadata": {},
   "outputs": [
    {
     "name": "stderr",
     "output_type": "stream",
     "text": [
      "100%|███████████████████████████████████████████████████████████████████████████| 3156/3156 [00:00<00:00, 15786.85it/s]\n",
      "C:\\Users\\user\\anaconda3\\envs\\yolor\\lib\\site-packages\\seaborn\\_decorators.py:36: FutureWarning: Pass the following variables as keyword args: x, y. From version 0.12, the only valid positional argument will be `data`, and passing other arguments without an explicit keyword will result in an error or misinterpretation.\n",
      "  warnings.warn(\n"
     ]
    },
    {
     "name": "stdout",
     "output_type": "stream",
     "text": [
      "[6625, 3331, 619, 33, 148, 3545, 336, 2770, 47, 488, 40, 310, 0, 742]\n"
     ]
    },
    {
     "data": {
      "image/png": "[encoded data removed]",
      "text/plain": [
       "<Figure size 432x288 with 1 Axes>"
      ]
     },
     "metadata": {
      "needs_background": "light"
     },
     "output_type": "display_data"
    }
   ],
   "source": [
    "# Class 5\n",
    "class_target_set = set(class_target_list)\n",
    "check_class_balance(class_target_set)"
   ]
  },
  {
   "cell_type": "code",
   "execution_count": 386,
   "id": "be467529",
   "metadata": {},
   "outputs": [
    {
     "name": "stderr",
     "output_type": "stream",
     "text": [
      "100%|███████████████████████████████████████████████████████████████████████████| 4068/4068 [00:00<00:00, 15928.44it/s]\n",
      "C:\\Users\\user\\anaconda3\\envs\\yolor\\lib\\site-packages\\seaborn\\_decorators.py:36: FutureWarning: Pass the following variables as keyword args: x, y. From version 0.12, the only valid positional argument will be `data`, and passing other arguments without an explicit keyword will result in an error or misinterpretation.\n",
      "  warnings.warn(\n"
     ]
    },
    {
     "name": "stdout",
     "output_type": "stream",
     "text": [
      "[11002, 4854, 4581, 68, 150, 642, 355, 3381, 87, 337, 51, 558, 47, 1360]\n"
     ]
    },
    {
     "data": {
      "image/png": "[encoded data removed]",
      "text/plain": [
       "<Figure size 432x288 with 1 Axes>"
      ]
     },
     "metadata": {
      "needs_background": "light"
     },
     "output_type": "display_data"
    }
   ],
   "source": [
    "# Class 2\n",
    "class_target_set = set(class_target_list)\n",
    "check_class_balance(class_target_set)"
   ]
  },
  {
   "cell_type": "code",
   "execution_count": 388,
   "id": "fe04af79",
   "metadata": {},
   "outputs": [
    {
     "name": "stderr",
     "output_type": "stream",
     "text": [
      "100%|███████████████████████████████████████████████████████████████████████████| 7687/7687 [00:00<00:00, 19320.39it/s]"
     ]
    },
    {
     "name": "stdout",
     "output_type": "stream",
     "text": [
      "[15913, 7235, 1243, 2, 21, 702, 7, 3478, 159, 68, 0, 28, 3, 8997]\n"
     ]
    },
    {
     "name": "stderr",
     "output_type": "stream",
     "text": [
      "\n",
      "C:\\Users\\user\\anaconda3\\envs\\yolor\\lib\\site-packages\\seaborn\\_decorators.py:36: FutureWarning: Pass the following variables as keyword args: x, y. From version 0.12, the only valid positional argument will be `data`, and passing other arguments without an explicit keyword will result in an error or misinterpretation.\n",
      "  warnings.warn(\n"
     ]
    },
    {
     "data": {
      "image/png": "[encoded data removed]",
      "text/plain": [
       "<Figure size 432x288 with 1 Axes>"
      ]
     },
     "metadata": {
      "needs_background": "light"
     },
     "output_type": "display_data"
    }
   ],
   "source": [
    "# Class 13\n",
    "class_target_set = set(class_target_list)\n",
    "check_class_balance(class_target_set)"
   ]
  },
  {
   "cell_type": "code",
   "execution_count": 390,
   "id": "77bbfbed",
   "metadata": {},
   "outputs": [
    {
     "name": "stderr",
     "output_type": "stream",
     "text": [
      "100%|█████████████████████████████████████████████████████████████████████████| 13597/13597 [00:00<00:00, 19008.81it/s]\n",
      "C:\\Users\\user\\anaconda3\\envs\\yolor\\lib\\site-packages\\seaborn\\_decorators.py:36: FutureWarning: Pass the following variables as keyword args: x, y. From version 0.12, the only valid positional argument will be `data`, and passing other arguments without an explicit keyword will result in an error or misinterpretation.\n",
      "  warnings.warn(\n"
     ]
    },
    {
     "name": "stdout",
     "output_type": "stream",
     "text": [
      "[34434, 17895, 2772, 770, 112, 2169, 150, 20747, 444, 460, 235, 472, 59, 2513]\n"
     ]
    },
    {
     "data": {
      "image/png": "[encoded data removed]",
      "text/plain": [
       "<Figure size 432x288 with 1 Axes>"
      ]
     },
     "metadata": {
      "needs_background": "light"
     },
     "output_type": "display_data"
    }
   ],
   "source": [
    "# Class 7\n",
    "class_target_set = set(class_target_list)\n",
    "check_class_balance(class_target_set)"
   ]
  },
  {
   "cell_type": "markdown",
   "id": "318bb9a2",
   "metadata": {},
   "source": [
    "# Image Augmentation"
   ]
  },
  {
   "cell_type": "code",
   "execution_count": 9,
   "id": "6dc087e7",
   "metadata": {},
   "outputs": [],
   "source": [
    "# Total Code\n",
    "def aug_images(img_path, txt_path, output_img_path, output_txt_path):\n",
    "    img_array = np.fromfile(img_path, np.uint8)\n",
    "    img = cv2.imdecode(img_array, cv2.IMREAD_COLOR)\n",
    "    input_img = img[np.newaxis, :, :, :]\n",
    "\n",
    "    txts = np.loadtxt(txt_path, dtype = str, delimiter = ' ').astype(float)\n",
    "    if txts.ndim == 1:\n",
    "        txts = txts[np.newaxis, :]\n",
    "    \n",
    "    labels = []\n",
    "    for i, txt in enumerate(txts):\n",
    "        x1, y1, x2, y2 = yolobbox2bbox(txt[1], txt[2], txt[3], txt[4], 1920, 1080)\n",
    "        input_label = [int(txt[0]), x1, y1, x2, y2]\n",
    "        labels.append(input_label)\n",
    "    \n",
    "    bbox = []\n",
    "    for label in labels:\n",
    "        bbox.append(ia.BoundingBox(x1 = label[1], y1 = label[2], x2 = label[3], y2 = label[4], label = label[0]))\n",
    "        \n",
    "#     bbox = [\n",
    "#             ia.BoundingBox(x1 = labels[0][1], y1 = labels[0][2], x2 = labels[0][3], y2 = labels[0][4], label = int(labels[0][0])),\n",
    "#             ia.BoundingBox(x1 = labels[1][1], y1 = labels[1][2], x2 = labels[1][3], y2 = labels[1][4], label = int(labels[1][0])),\n",
    "#             ia.BoundingBox(x1 = labels[2][1], y1 = labels[2][2], x2 = labels[2][3], y2 = labels[2][4], label = int(labels[2][0])),\n",
    "#             ia.BoundingBox(x1 = labels[3][1], y1 = labels[3][2], x2 = labels[3][3], y2 = labels[3][4], label = int(labels[3][0]))\n",
    "#         ]\n",
    "\n",
    "    seq = iaa.Sequential([\n",
    "        iaa.Affine(\n",
    "            scale={\"x\": (0.5, 0.7), \"y\": (0.5, 0.7)},\n",
    "            rotate = (-15, 15)\n",
    "        ),\n",
    "        iaa.AdditiveGaussianNoise(scale = (0.05*255, 0.10*255)),\n",
    "        iaa.GaussianBlur((0, 1.0)),\n",
    "        iaa.PerspectiveTransform(scale=(0.01, 0.02))\n",
    "    ])\n",
    "\n",
    "    output_img, output_bbox = seq(images = input_img, bounding_boxes = bbox)\n",
    "    output_img = np.squeeze(output_img, axis=0)\n",
    "\n",
    "    result, encoded_img = cv2.imencode('.png', output_img)\n",
    "    \n",
    "    if result:\n",
    "        with open(output_img_path, mode='w+b') as f:\n",
    "            encoded_img.tofile(f)\n",
    "\n",
    "    with open(output_txt_path, 'w', encoding='utf-8') as f:\n",
    "        for bbox in output_bbox:\n",
    "            x, y, w, h = bbox2yolobbox(bbox.x1, bbox.y1, bbox.x2, bbox.y2, 1920, 1080)\n",
    "\n",
    "            line = str(bbox.label) + ' ' + str(x) + ' ' + str(y) + ' ' + str(w) + ' ' + str(h) + '\\n'\n",
    "            f.write(line)"
   ]
  },
  {
   "cell_type": "code",
   "execution_count": null,
   "id": "a8bd54d5",
   "metadata": {},
   "outputs": [],
   "source": [
    "train_label_list = glob(\"../dataset/train-001-aug/labels/*.txt\")\n",
    "\n",
    "class12_target_list = find_class_images(12, train_label_list)\n",
    "class10_target_list = find_class_images(10, train_label_list)\n",
    "class08_target_list = find_class_images(8, train_label_list)\n",
    "class03_target_list = find_class_images(3, train_label_list)\n",
    "class06_target_list = find_class_images(6, train_label_list)\n",
    "class02_target_list = find_class_images(2, train_label_list)"
   ]
  },
  {
   "cell_type": "code",
   "execution_count": 13,
   "id": "d711a3e3",
   "metadata": {},
   "outputs": [],
   "source": [
    "# Class 12(x 50), 10(x 10), 8(x 10), 3(x 5), 6(x 2), 2(x 2)\n",
    "class12_target_set = set(class12_target_list)\n",
    "class10_target_set = set(class10_target_list)\n",
    "class08_target_set = set(class08_target_list)\n",
    "class03_target_set = set(class03_target_list)\n",
    "class06_target_set = set(class06_target_list)\n",
    "class02_target_set = set(class02_target_list)"
   ]
  },
  {
   "cell_type": "code",
   "execution_count": null,
   "id": "6a6064e2",
   "metadata": {
    "scrolled": true
   },
   "outputs": [
    {
     "name": "stderr",
     "output_type": "stream",
     "text": [
      "100%|██████████████████████████████████████████████████████████████████████████████████| 50/50 [14:57<00:00, 17.96s/it]\n",
      "100%|██████████████████████████████████████████████████████████████████████████████████| 10/10 [07:18<00:00, 43.84s/it]\n",
      "100%|█████████████████████████████████████████████████████████████████████████████████| 10/10 [24:25<00:00, 146.58s/it]\n",
      "100%|███████████████████████████████████████████████████████████████████████████████████| 5/5 [11:20<00:00, 136.09s/it]\n",
      "100%|███████████████████████████████████████████████████████████████████████████████████| 2/2 [15:21<00:00, 460.51s/it]\n",
      "  0%|                                                                                            | 0/2 [00:00<?, ?it/s]"
     ]
    }
   ],
   "source": [
    "for i in tqdm(range(50)):\n",
    "    for path in class12_target_set:\n",
    "        txt_path = path\n",
    "        img_path = path.replace(\"labels\", \"images\").replace(\"txt\", \"png\")\n",
    "\n",
    "        aug_images(img_path, txt_path, img_path[:-4] + \"_aug\" + str(i) + \".png\", txt_path[:-4] + \"_aug\" + str(i) + \".txt\")\n",
    "\n",
    "for i in tqdm(range(10)):\n",
    "    for path in class10_target_set:\n",
    "        txt_path = path\n",
    "        img_path = path.replace(\"labels\", \"images\").replace(\"txt\", \"png\")\n",
    "\n",
    "        aug_images(img_path, txt_path, img_path[:-4] + \"_aug\" + str(i) + \".png\", txt_path[:-4] + \"_aug\" + str(i) + \".txt\")\n",
    "\n",
    "for i in tqdm(range(10)):\n",
    "    for path in class08_target_set:\n",
    "        txt_path = path\n",
    "        img_path = path.replace(\"labels\", \"images\").replace(\"txt\", \"png\")\n",
    "\n",
    "        aug_images(img_path, txt_path, img_path[:-4] + \"_aug\" + str(i) + \".png\", txt_path[:-4] + \"_aug\" + str(i) + \".txt\")\n",
    "        \n",
    "for i in tqdm(range(5)):\n",
    "    for path in class03_target_set:\n",
    "        txt_path = path\n",
    "        img_path = path.replace(\"labels\", \"images\").replace(\"txt\", \"png\")\n",
    "\n",
    "        aug_images(img_path, txt_path, img_path[:-4] + \"_aug\" + str(i) + \".png\", txt_path[:-4] + \"_aug\" + str(i) + \".txt\")\n",
    "        \n",
    "for i in tqdm(range(2)):\n",
    "    for path in class06_target_set:\n",
    "        txt_path = path\n",
    "        img_path = path.replace(\"labels\", \"images\").replace(\"txt\", \"png\")\n",
    "\n",
    "        aug_images(img_path, txt_path, img_path[:-4] + \"_aug\" + str(i) + \".png\", txt_path[:-4] + \"_aug\" + str(i) + \".txt\")\n",
    "        \n",
    "for i in tqdm(range(2)):\n",
    "    for path in class02_target_set:\n",
    "        txt_path = path\n",
    "        img_path = path.replace(\"labels\", \"images\").replace(\"txt\", \"png\")\n",
    "\n",
    "        aug_images(img_path, txt_path, img_path[:-4] + \"_aug\" + str(i) + \".png\", txt_path[:-4] + \"_aug\" + str(i) + \".txt\")"
   ]
  },
  {
   "cell_type": "code",
   "execution_count": 13,
   "id": "0c38cc7a",
   "metadata": {},
   "outputs": [
    {
     "name": "stderr",
     "output_type": "stream",
     "text": [
      "100%|███████████████████████████████████████████████████████████████████████████| 24650/24650 [00:40<00:00, 605.45it/s]"
     ]
    },
    {
     "name": "stdout",
     "output_type": "stream",
     "text": [
      "[58536, 28173, 4581, 902, 1140, 3545, 1564, 20747, 496, 2674, 356, 2966, 64, 8997]\n"
     ]
    },
    {
     "name": "stderr",
     "output_type": "stream",
     "text": [
      "\n",
      "C:\\Users\\user\\anaconda3\\envs\\yolor\\lib\\site-packages\\seaborn\\_decorators.py:36: FutureWarning: Pass the following variables as keyword args: x, y. From version 0.12, the only valid positional argument will be `data`, and passing other arguments without an explicit keyword will result in an error or misinterpretation.\n",
      "  warnings.warn(\n"
     ]
    },
    {
     "data": {
      "image/png": "[encoded data removed]",
      "text/plain": [
       "<Figure size 432x288 with 1 Axes>"
      ]
     },
     "metadata": {
      "needs_background": "light"
     },
     "output_type": "display_data"
    }
   ],
   "source": [
    "from glob import glob\n",
    "\n",
    "all_train_label_list = glob(\"../dataset/train-001/labels/*.txt\")\n",
    "check_class_balance(all_train_label_list)"
   ]
  },
  {
   "cell_type": "code",
   "execution_count": 14,
   "id": "86ac256e",
   "metadata": {
    "scrolled": false
   },
   "outputs": [
    {
     "name": "stderr",
     "output_type": "stream",
     "text": [
      "100%|███████████████████████████████████████████████████████████████████████████| 38696/38696 [01:22<00:00, 466.32it/s]\n",
      "C:\\Users\\user\\anaconda3\\envs\\yolor\\lib\\site-packages\\seaborn\\_decorators.py:36: FutureWarning: Pass the following variables as keyword args: x, y. From version 0.12, the only valid positional argument will be `data`, and passing other arguments without an explicit keyword will result in an error or misinterpretation.\n",
      "  warnings.warn(\n"
     ]
    },
    {
     "name": "stdout",
     "output_type": "stream",
     "text": [
      "[95111, 46440, 9905, 5592, 1260, 5179, 4772, 38960, 5696, 4827, 3916, 3207, 3264, 11470]\n"
     ]
    },
    {
     "data": {
      "image/png": "[encoded data removed]",
      "text/plain": [
       "<Figure size 432x288 with 1 Axes>"
      ]
     },
     "metadata": {
      "needs_background": "light"
     },
     "output_type": "display_data"
    }
   ],
   "source": [
    "from glob import glob\n",
    "\n",
    "all_train_label_list = glob(\"../dataset/train-001-aug/labels/*.txt\")\n",
    "check_class_balance(all_train_label_list)"
   ]
  },
  {
   "cell_type": "markdown",
   "id": "5a6c877a",
   "metadata": {},
   "source": [
    "# train-001-aug2"
   ]
  },
  {
   "cell_type": "code",
   "execution_count": 15,
   "id": "edcd6291",
   "metadata": {},
   "outputs": [
    {
     "name": "stderr",
     "output_type": "stream",
     "text": [
      "100%|█████████████████████████████████████████████████████████████████████████| 24650/24650 [00:01<00:00, 23287.87it/s]\n"
     ]
    },
    {
     "name": "stdout",
     "output_type": "stream",
     "text": [
      "Class Num: 64\n",
      "Image Num: 55\n"
     ]
    },
    {
     "name": "stderr",
     "output_type": "stream",
     "text": [
      "100%|█████████████████████████████████████████████████████████████████████████| 24650/24650 [00:01<00:00, 23644.13it/s]\n"
     ]
    },
    {
     "name": "stdout",
     "output_type": "stream",
     "text": [
      "Class Num: 356\n",
      "Image Num: 129\n"
     ]
    },
    {
     "name": "stderr",
     "output_type": "stream",
     "text": [
      "100%|█████████████████████████████████████████████████████████████████████████| 24650/24650 [00:00<00:00, 28519.16it/s]\n"
     ]
    },
    {
     "name": "stdout",
     "output_type": "stream",
     "text": [
      "Class Num: 496\n",
      "Image Num: 454\n"
     ]
    },
    {
     "name": "stderr",
     "output_type": "stream",
     "text": [
      "100%|█████████████████████████████████████████████████████████████████████████| 24650/24650 [00:01<00:00, 24500.31it/s]\n"
     ]
    },
    {
     "name": "stdout",
     "output_type": "stream",
     "text": [
      "Class Num: 902\n",
      "Image Num: 412\n"
     ]
    },
    {
     "name": "stderr",
     "output_type": "stream",
     "text": [
      "100%|█████████████████████████████████████████████████████████████████████████| 24650/24650 [00:01<00:00, 22214.57it/s]\n"
     ]
    },
    {
     "name": "stdout",
     "output_type": "stream",
     "text": [
      "Class Num: 1564\n",
      "Image Num: 1431\n"
     ]
    },
    {
     "name": "stderr",
     "output_type": "stream",
     "text": [
      "100%|█████████████████████████████████████████████████████████████████████████| 24650/24650 [00:00<00:00, 26511.24it/s]\n"
     ]
    },
    {
     "name": "stdout",
     "output_type": "stream",
     "text": [
      "Class Num: 4581\n",
      "Image Num: 4068\n"
     ]
    },
    {
     "name": "stderr",
     "output_type": "stream",
     "text": [
      "100%|█████████████████████████████████████████████████████████████████████████| 24650/24650 [00:01<00:00, 24543.86it/s]\n"
     ]
    },
    {
     "name": "stdout",
     "output_type": "stream",
     "text": [
      "Class Num: 1140\n",
      "Image Num: 1104\n"
     ]
    },
    {
     "name": "stderr",
     "output_type": "stream",
     "text": [
      "100%|█████████████████████████████████████████████████████████████████████████| 24650/24650 [00:01<00:00, 20864.50it/s]\n"
     ]
    },
    {
     "name": "stdout",
     "output_type": "stream",
     "text": [
      "Class Num: 3545\n",
      "Image Num: 3156\n"
     ]
    },
    {
     "name": "stderr",
     "output_type": "stream",
     "text": [
      "100%|█████████████████████████████████████████████████████████████████████████| 24650/24650 [00:01<00:00, 21694.22it/s]\n"
     ]
    },
    {
     "name": "stdout",
     "output_type": "stream",
     "text": [
      "Class Num: 2674\n",
      "Image Num: 2244\n"
     ]
    },
    {
     "name": "stderr",
     "output_type": "stream",
     "text": [
      "100%|█████████████████████████████████████████████████████████████████████████| 24650/24650 [00:00<00:00, 26353.76it/s]"
     ]
    },
    {
     "name": "stdout",
     "output_type": "stream",
     "text": [
      "Class Num: 2966\n",
      "Image Num: 1424\n"
     ]
    },
    {
     "name": "stderr",
     "output_type": "stream",
     "text": [
      "\n"
     ]
    }
   ],
   "source": [
    "train_label_list = glob(\"../dataset/train-001-aug2/labels/*.txt\")\n",
    "\n",
    "class12_target_list = find_class_images(12, train_label_list)\n",
    "class10_target_list = find_class_images(10, train_label_list)\n",
    "class08_target_list = find_class_images(8, train_label_list)\n",
    "class03_target_list = find_class_images(3, train_label_list)\n",
    "class06_target_list = find_class_images(6, train_label_list)\n",
    "class02_target_list = find_class_images(2, train_label_list)\n",
    "\n",
    "class04_target_list = find_class_images(4, train_label_list)\n",
    "class05_target_list = find_class_images(5, train_label_list)\n",
    "class09_target_list = find_class_images(9, train_label_list)\n",
    "class11_target_list = find_class_images(11, train_label_list)"
   ]
  },
  {
   "cell_type": "code",
   "execution_count": 16,
   "id": "44e9e471",
   "metadata": {},
   "outputs": [],
   "source": [
    "class12_target_set = set(class12_target_list)\n",
    "class10_target_set = set(class10_target_list)\n",
    "class08_target_set = set(class08_target_list)\n",
    "class03_target_set = set(class03_target_list)\n",
    "class06_target_set = set(class06_target_list)\n",
    "class02_target_set = set(class02_target_list)\n",
    "\n",
    "class04_target_set = set(class04_target_list)\n",
    "class05_target_set = set(class05_target_list)\n",
    "class09_target_set = set(class09_target_list)\n",
    "class11_target_set = set(class11_target_list)"
   ]
  },
  {
   "cell_type": "code",
   "execution_count": 17,
   "id": "b5db6858",
   "metadata": {},
   "outputs": [
    {
     "name": "stderr",
     "output_type": "stream",
     "text": [
      "100%|██████████████████████████████████████████████████████████████████████████████████| 50/50 [15:08<00:00, 18.17s/it]\n",
      "100%|██████████████████████████████████████████████████████████████████████████████████| 10/10 [07:22<00:00, 44.22s/it]\n",
      "100%|█████████████████████████████████████████████████████████████████████████████████| 10/10 [24:24<00:00, 146.47s/it]\n",
      "100%|███████████████████████████████████████████████████████████████████████████████████| 5/5 [11:08<00:00, 133.60s/it]\n",
      "100%|███████████████████████████████████████████████████████████████████████████████████| 2/2 [14:56<00:00, 448.37s/it]\n",
      "100%|██████████████████████████████████████████████████████████████████████████████████| 2/2 [44:27<00:00, 1333.97s/it]\n",
      "100%|███████████████████████████████████████████████████████████████████████████████████| 2/2 [12:05<00:00, 362.92s/it]\n",
      "100%|██████████████████████████████████████████████████████████████████████████████████| 2/2 [36:13<00:00, 1086.57s/it]\n",
      "100%|███████████████████████████████████████████████████████████████████████████████████| 2/2 [25:30<00:00, 765.36s/it]\n",
      "100%|███████████████████████████████████████████████████████████████████████████████████| 2/2 [14:55<00:00, 447.96s/it]\n"
     ]
    }
   ],
   "source": [
    "# train-001-aug2\n",
    "# Class 12(x 50), 10(x 10), 8(x 10), 3(x 5), 6(x 2), 2(x 2) + 4(x 2), 5(x 2), 9(x 2), 11(x 2)\n",
    "for i in tqdm(range(50)):\n",
    "    for path in class12_target_set:\n",
    "        txt_path = path\n",
    "        img_path = path.replace(\"labels\", \"images\").replace(\"txt\", \"png\")\n",
    "\n",
    "        aug_images(img_path, txt_path, img_path[:-4] + \"_aug\" + str(i) + \".png\", txt_path[:-4] + \"_aug\" + str(i) + \".txt\")\n",
    "\n",
    "for i in tqdm(range(10)):\n",
    "    for path in class10_target_set:\n",
    "        txt_path = path\n",
    "        img_path = path.replace(\"labels\", \"images\").replace(\"txt\", \"png\")\n",
    "\n",
    "        aug_images(img_path, txt_path, img_path[:-4] + \"_aug\" + str(i) + \".png\", txt_path[:-4] + \"_aug\" + str(i) + \".txt\")\n",
    "\n",
    "for i in tqdm(range(10)):\n",
    "    for path in class08_target_set:\n",
    "        txt_path = path\n",
    "        img_path = path.replace(\"labels\", \"images\").replace(\"txt\", \"png\")\n",
    "\n",
    "        aug_images(img_path, txt_path, img_path[:-4] + \"_aug\" + str(i) + \".png\", txt_path[:-4] + \"_aug\" + str(i) + \".txt\")\n",
    "        \n",
    "for i in tqdm(range(5)):\n",
    "    for path in class03_target_set:\n",
    "        txt_path = path\n",
    "        img_path = path.replace(\"labels\", \"images\").replace(\"txt\", \"png\")\n",
    "\n",
    "        aug_images(img_path, txt_path, img_path[:-4] + \"_aug\" + str(i) + \".png\", txt_path[:-4] + \"_aug\" + str(i) + \".txt\")\n",
    "        \n",
    "for i in tqdm(range(2)):\n",
    "    for path in class06_target_set:\n",
    "        txt_path = path\n",
    "        img_path = path.replace(\"labels\", \"images\").replace(\"txt\", \"png\")\n",
    "\n",
    "        aug_images(img_path, txt_path, img_path[:-4] + \"_aug\" + str(i) + \".png\", txt_path[:-4] + \"_aug\" + str(i) + \".txt\")\n",
    "        \n",
    "for i in tqdm(range(2)):\n",
    "    for path in class02_target_set:\n",
    "        txt_path = path\n",
    "        img_path = path.replace(\"labels\", \"images\").replace(\"txt\", \"png\")\n",
    "\n",
    "        aug_images(img_path, txt_path, img_path[:-4] + \"_aug\" + str(i) + \".png\", txt_path[:-4] + \"_aug\" + str(i) + \".txt\")\n",
    "\n",
    "for i in tqdm(range(2)):\n",
    "    for path in class04_target_set:\n",
    "        txt_path = path\n",
    "        img_path = path.replace(\"labels\", \"images\").replace(\"txt\", \"png\")\n",
    "\n",
    "        aug_images(img_path, txt_path, img_path[:-4] + \"_aug\" + str(i) + \".png\", txt_path[:-4] + \"_aug\" + str(i) + \".txt\")\n",
    "for i in tqdm(range(2)):\n",
    "    for path in class05_target_set:\n",
    "        txt_path = path\n",
    "        img_path = path.replace(\"labels\", \"images\").replace(\"txt\", \"png\")\n",
    "\n",
    "        aug_images(img_path, txt_path, img_path[:-4] + \"_aug\" + str(i) + \".png\", txt_path[:-4] + \"_aug\" + str(i) + \".txt\")\n",
    "for i in tqdm(range(2)):\n",
    "    for path in class09_target_set:\n",
    "        txt_path = path\n",
    "        img_path = path.replace(\"labels\", \"images\").replace(\"txt\", \"png\")\n",
    "\n",
    "        aug_images(img_path, txt_path, img_path[:-4] + \"_aug\" + str(i) + \".png\", txt_path[:-4] + \"_aug\" + str(i) + \".txt\")\n",
    "for i in tqdm(range(2)):\n",
    "    for path in class11_target_set:\n",
    "        txt_path = path\n",
    "        img_path = path.replace(\"labels\", \"images\").replace(\"txt\", \"png\")\n",
    "\n",
    "        aug_images(img_path, txt_path, img_path[:-4] + \"_aug\" + str(i) + \".png\", txt_path[:-4] + \"_aug\" + str(i) + \".txt\")"
   ]
  },
  {
   "cell_type": "code",
   "execution_count": 19,
   "id": "a3e7e2cb",
   "metadata": {},
   "outputs": [
    {
     "name": "stderr",
     "output_type": "stream",
     "text": [
      "100%|███████████████████████████████████████████████████████████████████████████| 56132/56132 [03:16<00:00, 286.36it/s]\n",
      "C:\\Users\\user\\anaconda3\\envs\\yolor\\lib\\site-packages\\seaborn\\_decorators.py:36: FutureWarning: Pass the following variables as keyword args: x, y. From version 0.12, the only valid positional argument will be `data`, and passing other arguments without an explicit keyword will result in an error or misinterpretation.\n",
      "  warnings.warn(\n"
     ]
    },
    {
     "name": "stdout",
     "output_type": "stream",
     "text": [
      "[137467, 65395, 17141, 5592, 3454, 11310, 4772, 50034, 5696, 9631, 3916, 8931, 3264, 15232]\n"
     ]
    },
    {
     "data": {
      "image/png": "[encoded data removed]",
      "text/plain": [
       "<Figure size 432x288 with 1 Axes>"
      ]
     },
     "metadata": {
      "needs_background": "light"
     },
     "output_type": "display_data"
    }
   ],
   "source": [
    "from glob import glob\n",
    "\n",
    "all_train_label_list = glob(\"../dataset/train-001-aug2/labels/*.txt\")\n",
    "check_class_balance(all_train_label_list)"
   ]
  },
  {
   "cell_type": "code",
   "execution_count": 21,
   "id": "f889b3e8",
   "metadata": {},
   "outputs": [
    {
     "data": {
      "text/plain": [
       "['../dataset/train-sample/labels\\\\20201102_경기도_-_-_맑음_주간_실외_right_000004_0069936.txt']"
      ]
     },
     "execution_count": 21,
     "metadata": {},
     "output_type": "execute_result"
    }
   ],
   "source": [
    "sample_train_label_list = glob(\"../dataset/train-sample/labels/*.txt\")\n",
    "sample_train_label_list"
   ]
  },
  {
   "cell_type": "code",
   "execution_count": 36,
   "id": "caf05908",
   "metadata": {},
   "outputs": [
    {
     "name": "stderr",
     "output_type": "stream",
     "text": [
      "100%|████████████████████████████████████████████████████████████████████████████████████| 5/5 [00:00<00:00,  5.04it/s]\n"
     ]
    }
   ],
   "source": [
    "ia.seed(42)\n",
    "\n",
    "for i in tqdm(range(5)):\n",
    "    for path in sample_train_label_list:\n",
    "        txt_path = path\n",
    "        img_path = path.replace(\"labels\", \"images\").replace(\"txt\", \"png\")\n",
    "\n",
    "        aug_images(img_path, txt_path, img_path[:-4] + \"_aug\" + str(i) + \".png\", txt_path[:-4] + \"_aug\" + str(i) + \".txt\")"
   ]
  },
  {
   "cell_type": "code",
   "execution_count": 37,
   "id": "781b8241",
   "metadata": {},
   "outputs": [
    {
     "name": "stderr",
     "output_type": "stream",
     "text": [
      "100%|████████████████████████████████████████████████████████████████████████████████████| 5/5 [00:00<00:00,  5.03it/s]\n"
     ]
    }
   ],
   "source": [
    "ia.seed(42)\n",
    "\n",
    "for i in tqdm(range(5)):\n",
    "    for path in sample_train_label_list:\n",
    "        txt_path = path\n",
    "        img_path = path.replace(\"labels\", \"images\").replace(\"txt\", \"png\")\n",
    "\n",
    "        aug_images(img_path, txt_path, img_path[:-4] + \"_aug\" + str(i) + \".png\", txt_path[:-4] + \"_aug\" + str(i) + \".txt\")"
   ]
  },
  {
   "cell_type": "code",
   "execution_count": 49,
   "id": "9ec63121",
   "metadata": {},
   "outputs": [
    {
     "name": "stdout",
     "output_type": "stream",
     "text": [
      "finished!\n"
     ]
    },
    {
     "name": "stderr",
     "output_type": "stream",
     "text": [
      "\n",
      "  0%|          | 0/5 [00:00<?, ?it/s]\n",
      " 20%|##        | 1/5 [00:00<00:00,  4.58it/s]\n",
      " 40%|####      | 2/5 [00:00<00:00,  4.99it/s]\n",
      " 60%|######    | 3/5 [00:00<00:00,  5.15it/s]\n",
      " 80%|########  | 4/5 [00:00<00:00,  5.03it/s]\n",
      "100%|##########| 5/5 [00:00<00:00,  5.10it/s]\n",
      "100%|##########| 5/5 [00:00<00:00,  5.05it/s]\n"
     ]
    }
   ],
   "source": [
    "!python augmentation-copy.py"
   ]
  },
  {
   "cell_type": "code",
   "execution_count": null,
   "id": "5615479d",
   "metadata": {},
   "outputs": [],
   "source": [
    "0 0.51309 0.161705 0.200115 0.144197\n",
    "0 0.769045 0.245409 0.051148 0.049629\n",
    "1 0.811687 0.289319 0.061916 0.091732\n",
    "7 0.274503 0.089213 0.015645 0.049167"
   ]
  }
 ],
 "metadata": {
  "kernelspec": {
   "display_name": "Python 3 (ipykernel)",
   "language": "python",
   "name": "python3"
  },
  "language_info": {
   "codemirror_mode": {
    "name": "ipython",
    "version": 3
   },
   "file_extension": ".py",
   "mimetype": "text/x-python",
   "name": "python",
   "nbconvert_exporter": "python",
   "pygments_lexer": "ipython3",
   "version": "3.8.13"
  }
 },
 "nbformat": 4,
 "nbformat_minor": 5
}
