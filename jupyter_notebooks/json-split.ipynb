{
 "cells": [
  {
   "cell_type": "code",
   "execution_count": 2,
   "id": "cf53b824",
   "metadata": {},
   "outputs": [
    {
     "name": "stdout",
     "output_type": "stream",
     "text": [
      "C:\\Users\\user\\Desktop\\jh\\yolor\n"
     ]
    }
   ],
   "source": [
    "%cd yolor"
   ]
  },
  {
   "cell_type": "code",
   "execution_count": 5,
   "id": "a20eddba",
   "metadata": {},
   "outputs": [],
   "source": [
    "import json\n",
    "import os\n",
    "import random\n",
    "\n",
    "\n",
    "def split_dataset(input_json, output_dir, val_ratio, random_seed):\n",
    "    random.seed(random_seed)\n",
    "\n",
    "    with open(input_json, encoding='utf-8') as json_reader:\n",
    "        dataset = json.load(json_reader)\n",
    "\n",
    "    images = dataset['images']\n",
    "    annotations = dataset['annotations']\n",
    "    categories = dataset['categories']\n",
    "\n",
    "    # file_name에 prefix 디렉토리까지 포함 (CocoDataset 클래스를 사용하는 경우)\n",
    "    # for image in images:\n",
    "    #     image['file_name'] = '{}/{}'.format(image['file_name'][0], image['file_name'])\n",
    "\n",
    "    image_ids = [x.get('id') for x in images]\n",
    "    image_ids.sort()\n",
    "    random.shuffle(image_ids)\n",
    "\n",
    "    num_val = int(len(image_ids) * val_ratio)\n",
    "    num_train = len(image_ids) - num_val\n",
    "\n",
    "    image_ids_val, image_ids_train = set(image_ids[:num_val]), set(image_ids[num_val:])\n",
    "\n",
    "    train_images = [x for x in images if x.get('id') in image_ids_train]\n",
    "    val_images = [x for x in images if x.get('id') in image_ids_val]\n",
    "    train_annotations = [x for x in annotations if x.get('image_id') in image_ids_train]\n",
    "    val_annotations = [x for x in annotations if x.get('image_id') in image_ids_val]\n",
    "\n",
    "    train_data = {\n",
    "        'images': train_images,\n",
    "        'annotations': train_annotations,\n",
    "        'categories': categories,\n",
    "    }\n",
    "\n",
    "    val_data = {\n",
    "        'images': val_images,\n",
    "        'annotations': val_annotations,\n",
    "        'categories': categories,\n",
    "    }\n",
    "\n",
    "    output_seed_dir = os.path.join(output_dir, f'seed{random_seed}')\n",
    "    os.makedirs(output_seed_dir, exist_ok=True)\n",
    "    output_train_json = os.path.join(output_seed_dir, 'train.json')\n",
    "    output_val_json = os.path.join(output_seed_dir, 'val.json')\n",
    "\n",
    "\n",
    "    print(f'write {output_train_json}')\n",
    "    with open(output_train_json, 'w', encoding='utf-8') as train_writer:\n",
    "        json.dump(train_data, train_writer)\n",
    "\n",
    "    print(f'write {output_val_json}')\n",
    "    with open(output_val_json, 'w', encoding='utf-8') as val_writer:\n",
    "        json.dump(val_data, val_writer)"
   ]
  },
  {
   "cell_type": "code",
   "execution_count": 6,
   "id": "9170cba1",
   "metadata": {},
   "outputs": [
    {
     "name": "stdout",
     "output_type": "stream",
     "text": [
      "write ../dataset/train-001/label/seed42\\train.json\n",
      "write ../dataset/train-001/label/seed42\\val.json\n"
     ]
    }
   ],
   "source": [
    "split_dataset(input_json='../dataset/train-001/label/Train.json',\n",
    "              output_dir='../dataset/train-001/label/',\n",
    "              val_ratio=0.1,\n",
    "              random_seed=42)"
   ]
  },
  {
   "cell_type": "code",
   "execution_count": 8,
   "id": "68ac352a",
   "metadata": {},
   "outputs": [
    {
     "name": "stdout",
     "output_type": "stream",
     "text": [
      "training data\n",
      "images: 22185\n",
      "annotations: 121300\n",
      "categories: 14\n"
     ]
    }
   ],
   "source": [
    "import json\n",
    "\n",
    "train_data = json.load(open('../dataset/train-001/label/seed42/train.json'))\n",
    "\n",
    "print('training data')\n",
    "print(f'images: {len(train_data[\"images\"])}')\n",
    "print(f'annotations: {len(train_data[\"annotations\"])}')\n",
    "print(f'categories: {len(train_data[\"categories\"])}')"
   ]
  },
  {
   "cell_type": "code",
   "execution_count": 9,
   "id": "7264a879",
   "metadata": {},
   "outputs": [
    {
     "name": "stdout",
     "output_type": "stream",
     "text": [
      "validation data\n",
      "images: 2465\n",
      "annotations: 13441\n",
      "categories: 14\n"
     ]
    }
   ],
   "source": [
    "val_data = json.load(open('../dataset/train-001/label/seed42/val.json'))\n",
    "\n",
    "print('validation data')\n",
    "print(f'images: {len(val_data[\"images\"])}')\n",
    "print(f'annotations: {len(val_data[\"annotations\"])}')\n",
    "print(f'categories: {len(val_data[\"categories\"])}')"
   ]
  }
 ],
 "metadata": {
  "kernelspec": {
   "display_name": "Python 3 (ipykernel)",
   "language": "python",
   "name": "python3"
  },
  "language_info": {
   "codemirror_mode": {
    "name": "ipython",
    "version": 3
   },
   "file_extension": ".py",
   "mimetype": "text/x-python",
   "name": "python",
   "nbconvert_exporter": "python",
   "pygments_lexer": "ipython3",
   "version": "3.8.13"
  }
 },
 "nbformat": 4,
 "nbformat_minor": 5
}
